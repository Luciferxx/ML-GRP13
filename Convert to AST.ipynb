{
 "cells": [
  {
   "cell_type": "code",
   "execution_count": 55,
   "id": "c1c4d3af",
   "metadata": {},
   "outputs": [],
   "source": [
    "import json\n",
    "import solcx\n",
    "import os\n",
    "import re\n",
    "import solc\n",
    "from packaging import version"
   ]
  },
  {
   "cell_type": "code",
   "execution_count": 59,
   "id": "84d462b3",
   "metadata": {},
   "outputs": [],
   "source": [
    "for subdir, dirs, files in os.walk('SmartBugs/smartbugs/dataset/'):\n",
    "    for file in files:\n",
    "        #print os.path.join(subdir, file)\n",
    "        filepath = subdir + os.sep + file\n",
    "\n",
    "        if filepath.endswith(\".sol\"):\n",
    "            # print(filepath)\n",
    "            with open(filepath) as f:\n",
    "                m = re.findall(\"[0-9]\\.[0-9]\\.[0-9]*\", f.read())\n",
    "                if version.parse(m[0]) <  version.parse('0.4.11'):\n",
    "                    print(filepath)\n",
    "                    print(m[0])\n",
    "                    os.remove(filepath)"
   ]
  },
  {
   "cell_type": "code",
   "execution_count": 63,
   "id": "c9d75f4d",
   "metadata": {},
   "outputs": [
    {
     "name": "stdout",
     "output_type": "stream",
     "text": [
      "Done with SmartBugs/smartbugs/dataset/bad_randomness/random_number_generator.sol\n",
      "Done with SmartBugs/smartbugs/dataset/bad_randomness/old_blockhash.sol\n",
      "Done with SmartBugs/smartbugs/dataset/bad_randomness/etheraffle.sol\n",
      "Done with SmartBugs/smartbugs/dataset/bad_randomness/smart_billions.sol\n",
      "Done with SmartBugs/smartbugs/dataset/bad_randomness/guess_the_random_number.sol\n",
      "Done with SmartBugs/smartbugs/dataset/reentrancy/0xb93430ce38ac4a6bb47fb1fc085ea669353fd89e.sol\n",
      "Done with SmartBugs/smartbugs/dataset/reentrancy/0x8c7777c45481dba411450c228cb692ac3d550344.sol\n",
      "Done with SmartBugs/smartbugs/dataset/reentrancy/0xbaf51e761510c1a11bf48dd87c0307ac8a8c8a4f.sol\n",
      "Done with SmartBugs/smartbugs/dataset/reentrancy/0xcead721ef5b11f1a7b530171aab69b16c5e66b6e.sol\n",
      "Done with SmartBugs/smartbugs/dataset/reentrancy/0x627fa62ccbb1c1b04ffaecd72a53e37fc0e17839.sol\n",
      "Done with SmartBugs/smartbugs/dataset/reentrancy/reentrance.sol\n",
      "Done with SmartBugs/smartbugs/dataset/reentrancy/reentrancy_dao.sol\n",
      "Done with SmartBugs/smartbugs/dataset/reentrancy/modifier_reentrancy.sol\n",
      "Done with SmartBugs/smartbugs/dataset/reentrancy/0x7a8721a9d64c74da899424c1b52acbf58ddc9782.sol\n",
      "Done with SmartBugs/smartbugs/dataset/reentrancy/reentrancy_simple.sol\n",
      "Done with SmartBugs/smartbugs/dataset/reentrancy/0x941d225236464a25eb18076df7da6a91d0f95e9e.sol\n",
      "Done with SmartBugs/smartbugs/dataset/reentrancy/0x7b368c4e805c3870b6c49a3f1f49f69af8662cf3.sol\n",
      "Done with SmartBugs/smartbugs/dataset/reentrancy/spank_chain_payment.sol\n",
      "Done with SmartBugs/smartbugs/dataset/reentrancy/0xb5e1b1ee15c6fa0e48fce100125569d430f1bd12.sol\n",
      "Done with SmartBugs/smartbugs/dataset/reentrancy/0xbe4041d55db380c5ae9d4a9b9703f1ed4e7e3888.sol\n",
      "Done with SmartBugs/smartbugs/dataset/reentrancy/0x01f8c4e3fa3edeb29e514cba738d87ce8c091d3f.sol\n",
      "Done with SmartBugs/smartbugs/dataset/reentrancy/0x4320e6f8c05b27ab4707cd1f6d5ce6f3e4b3a5a1.sol\n",
      "Done with SmartBugs/smartbugs/dataset/reentrancy/0x7541b76cb60f4c60af330c208b0623b7f54bf615.sol\n",
      "Done with SmartBugs/smartbugs/dataset/reentrancy/0x96edbe868531bd23a6c05e9d0c424ea64fb1b78b.sol\n",
      "Done with SmartBugs/smartbugs/dataset/reentrancy/0x561eac93c92360949ab1f1403323e6db345cbf31.sol\n",
      "Done with SmartBugs/smartbugs/dataset/reentrancy/0x23a91059fdc9579a9fbd0edc5f2ea0bfdb70deb4.sol\n",
      "Done with SmartBugs/smartbugs/dataset/reentrancy/0x4e73b32ed6c35f570686b89848e5f39f20ecc106.sol\n",
      "Done with SmartBugs/smartbugs/dataset/reentrancy/0xaae1f51cf3339f18b6d3f3bdc75a5facd744b0b8.sol\n",
      "Done with SmartBugs/smartbugs/dataset/reentrancy/0x93c32845fae42c83a70e5f06214c8433665c2ab5.sol\n",
      "Done with SmartBugs/smartbugs/dataset/reentrancy/0xf015c35649c82f5467c9c74b7f28ee67665aad68.sol\n",
      "Done with SmartBugs/smartbugs/dataset/unchecked_low_level_calls/0xb11b2fed6c9354f7aa2f658d3b4d7b31d8a13b77.sol\n",
      "Done with SmartBugs/smartbugs/dataset/unchecked_low_level_calls/0x78c2a1e91b52bca4130b6ed9edd9fbcfd4671c37.sol\n",
      "Done with SmartBugs/smartbugs/dataset/unchecked_low_level_calls/0x3a0e9acd953ffc0dd18d63603488846a6b8b2b01.sol\n",
      "Done with SmartBugs/smartbugs/dataset/unchecked_low_level_calls/0x4051334adc52057aca763453820cb0e045076ef3.sol\n",
      "Done with SmartBugs/smartbugs/dataset/unchecked_low_level_calls/0xa46edd6a9a93feec36576ee5048146870ea2c3ae.sol\n",
      "Done with SmartBugs/smartbugs/dataset/unchecked_low_level_calls/0x52d2e0f9b01101a59b38a3d05c80b7618aeed984.sol\n",
      "Done with SmartBugs/smartbugs/dataset/unchecked_low_level_calls/0x627fa62ccbb1c1b04ffaecd72a53e37fc0e17839.sol\n",
      "Done with SmartBugs/smartbugs/dataset/unchecked_low_level_calls/0x3e013fc32a54c4c5b6991ba539dcd0ec4355c859.sol\n",
      "Done with SmartBugs/smartbugs/dataset/unchecked_low_level_calls/0x19cf8481ea15427a98ba3cdd6d9e14690011ab10.sol\n",
      "Done with SmartBugs/smartbugs/dataset/unchecked_low_level_calls/0x4b71ad9c1a84b9b643aa54fdd66e2dec96e8b152.sol\n",
      "Done with SmartBugs/smartbugs/dataset/unchecked_low_level_calls/0xe09b1ab8111c2729a76f16de96bc86a7af837928.sol\n",
      "Done with SmartBugs/smartbugs/dataset/unchecked_low_level_calls/0x84d9ec85c9c568eb332b7226a8f826d897e0a4a8.sol\n",
      "Done with SmartBugs/smartbugs/dataset/unchecked_low_level_calls/0x524960d55174d912768678d8c606b4d50b79d7b1.sol\n"
     ]
    },
    {
     "ename": "SolcError",
     "evalue": "An error occurred during execution\n> command: `/Users/varunsharma/.solcx/solc-v0.4.21 SmartBugs/smartbugs/dataset/unchecked_low_level_calls/0x07f7ecb66d788ab01dc93b9b71a88401de7d0f2e.sol --combined-json abi`\n> return code: `1`\n> stdout:\n\n> stderr:\nSmartBugs/smartbugs/dataset/unchecked_low_level_calls/0x07f7ecb66d788ab01dc93b9b71a88401de7d0f2e.sol:67:16: Error: Expected identifier, got 'LParen'\n    constructor(address whaleAddress, uint256 wagerLimit) \n               ^",
     "output_type": "error",
     "traceback": [
      "\u001b[0;31m---------------------------------------------------------------------------\u001b[0m",
      "\u001b[0;31mSolcError\u001b[0m                                 Traceback (most recent call last)",
      "Cell \u001b[0;32mIn [63], line 13\u001b[0m\n\u001b[1;32m     11\u001b[0m                 solcx\u001b[39m.\u001b[39minstall_solc_pragma(m[\u001b[39m0\u001b[39m])\n\u001b[1;32m     12\u001b[0m                 solcx\u001b[39m.\u001b[39mset_solc_version(m[\u001b[39m0\u001b[39m])\n\u001b[0;32m---> 13\u001b[0m                 abi_json\u001b[39m.\u001b[39mappend(solcx\u001b[39m.\u001b[39;49mcompile_files(filepath, output_values\u001b[39m=\u001b[39;49m[\u001b[39m'\u001b[39;49m\u001b[39mabi\u001b[39;49m\u001b[39m'\u001b[39;49m]))\n\u001b[1;32m     15\u001b[0m             \u001b[39mprint\u001b[39m(\u001b[39m\"\u001b[39m\u001b[39mDone with \u001b[39m\u001b[39m\"\u001b[39m \u001b[39m+\u001b[39m filepath)\n\u001b[1;32m     17\u001b[0m \u001b[39mfor\u001b[39;00m j \u001b[39min\u001b[39;00m abi_json:\n",
      "File \u001b[0;32m~/Downloads/Classes/ML/Group Project/ML/lib/python3.8/site-packages/solcx/main.py:216\u001b[0m, in \u001b[0;36mcompile_files\u001b[0;34m(source_files, output_values, import_remappings, base_path, allow_paths, output_dir, overwrite, evm_version, revert_strings, metadata_hash, metadata_literal, optimize, optimize_runs, optimize_yul, no_optimize_yul, yul_optimizations, solc_binary, solc_version, allow_empty)\u001b[0m\n\u001b[1;32m    134\u001b[0m \u001b[39mdef\u001b[39;00m \u001b[39mcompile_files\u001b[39m(\n\u001b[1;32m    135\u001b[0m     source_files: Union[List, Path, \u001b[39mstr\u001b[39m],\n\u001b[1;32m    136\u001b[0m     output_values: List \u001b[39m=\u001b[39m \u001b[39mNone\u001b[39;00m,\n\u001b[0;32m   (...)\u001b[0m\n\u001b[1;32m    153\u001b[0m     allow_empty: \u001b[39mbool\u001b[39m \u001b[39m=\u001b[39m \u001b[39mFalse\u001b[39;00m,\n\u001b[1;32m    154\u001b[0m ) \u001b[39m-\u001b[39m\u001b[39m>\u001b[39m Dict:\n\u001b[1;32m    155\u001b[0m     \u001b[39m\"\"\"\u001b[39;00m\n\u001b[1;32m    156\u001b[0m \u001b[39m    Compile one or more Solidity source files.\u001b[39;00m\n\u001b[1;32m    157\u001b[0m \n\u001b[0;32m   (...)\u001b[0m\n\u001b[1;32m    214\u001b[0m \u001b[39m        Compiler output\u001b[39;00m\n\u001b[1;32m    215\u001b[0m \u001b[39m    \"\"\"\u001b[39;00m\n\u001b[0;32m--> 216\u001b[0m     \u001b[39mreturn\u001b[39;00m _compile_combined_json(\n\u001b[1;32m    217\u001b[0m         solc_binary\u001b[39m=\u001b[39;49msolc_binary,\n\u001b[1;32m    218\u001b[0m         solc_version\u001b[39m=\u001b[39;49msolc_version,\n\u001b[1;32m    219\u001b[0m         source_files\u001b[39m=\u001b[39;49msource_files,\n\u001b[1;32m    220\u001b[0m         output_values\u001b[39m=\u001b[39;49moutput_values,\n\u001b[1;32m    221\u001b[0m         import_remappings\u001b[39m=\u001b[39;49mimport_remappings,\n\u001b[1;32m    222\u001b[0m         base_path\u001b[39m=\u001b[39;49mbase_path,\n\u001b[1;32m    223\u001b[0m         allow_paths\u001b[39m=\u001b[39;49mallow_paths,\n\u001b[1;32m    224\u001b[0m         output_dir\u001b[39m=\u001b[39;49moutput_dir,\n\u001b[1;32m    225\u001b[0m         overwrite\u001b[39m=\u001b[39;49moverwrite,\n\u001b[1;32m    226\u001b[0m         evm_version\u001b[39m=\u001b[39;49mevm_version,\n\u001b[1;32m    227\u001b[0m         revert_strings\u001b[39m=\u001b[39;49mrevert_strings,\n\u001b[1;32m    228\u001b[0m         metadata_hash\u001b[39m=\u001b[39;49mmetadata_hash,\n\u001b[1;32m    229\u001b[0m         metadata_literal\u001b[39m=\u001b[39;49mmetadata_literal,\n\u001b[1;32m    230\u001b[0m         optimize\u001b[39m=\u001b[39;49moptimize,\n\u001b[1;32m    231\u001b[0m         optimize_runs\u001b[39m=\u001b[39;49moptimize_runs,\n\u001b[1;32m    232\u001b[0m         no_optimize_yul\u001b[39m=\u001b[39;49mno_optimize_yul,\n\u001b[1;32m    233\u001b[0m         yul_optimizations\u001b[39m=\u001b[39;49myul_optimizations,\n\u001b[1;32m    234\u001b[0m         allow_empty\u001b[39m=\u001b[39;49mallow_empty,\n\u001b[1;32m    235\u001b[0m     )\n",
      "File \u001b[0;32m~/Downloads/Classes/ML/Group Project/ML/lib/python3.8/site-packages/solcx/main.py:291\u001b[0m, in \u001b[0;36m_compile_combined_json\u001b[0;34m(output_values, solc_binary, solc_version, output_dir, overwrite, allow_empty, **kwargs)\u001b[0m\n\u001b[1;32m    286\u001b[0m         target_path \u001b[39m=\u001b[39m output_dir\u001b[39m.\u001b[39mjoinpath(\u001b[39m\"\u001b[39m\u001b[39mcombined.json\u001b[39m\u001b[39m\"\u001b[39m)\n\u001b[1;32m    287\u001b[0m         \u001b[39mraise\u001b[39;00m \u001b[39mFileExistsError\u001b[39;00m(\n\u001b[1;32m    288\u001b[0m             \u001b[39mf\u001b[39m\u001b[39m\"\u001b[39m\u001b[39mTarget output file \u001b[39m\u001b[39m{\u001b[39;00mtarget_path\u001b[39m}\u001b[39;00m\u001b[39m already exists - use overwrite=True to overwrite\u001b[39m\u001b[39m\"\u001b[39m\n\u001b[1;32m    289\u001b[0m         )\n\u001b[0;32m--> 291\u001b[0m stdoutdata, stderrdata, command, proc \u001b[39m=\u001b[39m wrapper\u001b[39m.\u001b[39;49msolc_wrapper(\n\u001b[1;32m    292\u001b[0m     solc_binary\u001b[39m=\u001b[39;49msolc_binary,\n\u001b[1;32m    293\u001b[0m     combined_json\u001b[39m=\u001b[39;49mcombined_json,\n\u001b[1;32m    294\u001b[0m     output_dir\u001b[39m=\u001b[39;49moutput_dir,\n\u001b[1;32m    295\u001b[0m     overwrite\u001b[39m=\u001b[39;49moverwrite,\n\u001b[1;32m    296\u001b[0m     \u001b[39m*\u001b[39;49m\u001b[39m*\u001b[39;49mkwargs,\n\u001b[1;32m    297\u001b[0m )\n\u001b[1;32m    299\u001b[0m \u001b[39mif\u001b[39;00m output_dir:\n\u001b[1;32m    300\u001b[0m     output_path \u001b[39m=\u001b[39m Path(output_dir)\u001b[39m.\u001b[39mjoinpath(\u001b[39m\"\u001b[39m\u001b[39mcombined.json\u001b[39m\u001b[39m\"\u001b[39m)\n",
      "File \u001b[0;32m~/Downloads/Classes/ML/Group Project/ML/lib/python3.8/site-packages/solcx/wrapper.py:158\u001b[0m, in \u001b[0;36msolc_wrapper\u001b[0;34m(solc_binary, stdin, source_files, import_remappings, success_return_code, **kwargs)\u001b[0m\n\u001b[1;32m    153\u001b[0m         flag \u001b[39m=\u001b[39m flag\u001b[39m.\u001b[39msplit(\u001b[39m\"\u001b[39m\u001b[39m \u001b[39m\u001b[39m\"\u001b[39m)[\u001b[39m-\u001b[39m\u001b[39m1\u001b[39m]\n\u001b[1;32m    154\u001b[0m         \u001b[39mraise\u001b[39;00m UnknownValue(\n\u001b[1;32m    155\u001b[0m             \u001b[39mf\u001b[39m\u001b[39m\"\u001b[39m\u001b[39msolc \u001b[39m\u001b[39m{\u001b[39;00msolc_version\u001b[39m}\u001b[39;00m\u001b[39m does not accept \u001b[39m\u001b[39m'\u001b[39m\u001b[39m{\u001b[39;00moption\u001b[39m}\u001b[39;00m\u001b[39m'\u001b[39m\u001b[39m as an option for the \u001b[39m\u001b[39m'\u001b[39m\u001b[39m{\u001b[39;00mflag\u001b[39m}\u001b[39;00m\u001b[39m'\u001b[39m\u001b[39m flag\u001b[39m\u001b[39m\"\u001b[39m\n\u001b[1;32m    156\u001b[0m         )\n\u001b[0;32m--> 158\u001b[0m     \u001b[39mraise\u001b[39;00m SolcError(\n\u001b[1;32m    159\u001b[0m         command\u001b[39m=\u001b[39mcommand,\n\u001b[1;32m    160\u001b[0m         return_code\u001b[39m=\u001b[39mproc\u001b[39m.\u001b[39mreturncode,\n\u001b[1;32m    161\u001b[0m         stdin_data\u001b[39m=\u001b[39mstdin,\n\u001b[1;32m    162\u001b[0m         stdout_data\u001b[39m=\u001b[39mstdoutdata,\n\u001b[1;32m    163\u001b[0m         stderr_data\u001b[39m=\u001b[39mstderrdata,\n\u001b[1;32m    164\u001b[0m     )\n\u001b[1;32m    166\u001b[0m \u001b[39mreturn\u001b[39;00m stdoutdata, stderrdata, command, proc\n",
      "\u001b[0;31mSolcError\u001b[0m: An error occurred during execution\n> command: `/Users/varunsharma/.solcx/solc-v0.4.21 SmartBugs/smartbugs/dataset/unchecked_low_level_calls/0x07f7ecb66d788ab01dc93b9b71a88401de7d0f2e.sol --combined-json abi`\n> return code: `1`\n> stdout:\n\n> stderr:\nSmartBugs/smartbugs/dataset/unchecked_low_level_calls/0x07f7ecb66d788ab01dc93b9b71a88401de7d0f2e.sol:67:16: Error: Expected identifier, got 'LParen'\n    constructor(address whaleAddress, uint256 wagerLimit) \n               ^"
     ]
    }
   ],
   "source": [
    "abi_json = []\n",
    "for subdir, dirs, files in os.walk('SmartBugs/smartbugs/dataset/'):\n",
    "    for file in files:\n",
    "        #print os.path.join(subdir, file)\n",
    "        filepath = subdir + os.sep + file\n",
    "\n",
    "        if filepath.endswith(\".sol\"):\n",
    "            # print(filepath)\n",
    "            with open(filepath) as f:\n",
    "                m = re.findall(\"[0-9]\\.[0-9]\\.[0-9]*\", f.read())\n",
    "                solcx.install_solc_pragma(m[0])\n",
    "                solcx.set_solc_version(m[0])\n",
    "                abi_json.append(solcx.compile_files(filepath, output_values=['abi']))\n",
    "\n",
    "            print(\"Done with \" + filepath)\n",
    "\n",
    "for j in abi_json:\n",
    "    print(j)"
   ]
  },
  {
   "cell_type": "code",
   "execution_count": null,
   "id": "939667c4",
   "metadata": {},
   "outputs": [],
   "source": []
  }
 ],
 "metadata": {
  "kernelspec": {
   "display_name": "Python 3.8.12 ('ML': venv)",
   "language": "python",
   "name": "python3"
  },
  "language_info": {
   "codemirror_mode": {
    "name": "ipython",
    "version": 3
   },
   "file_extension": ".py",
   "mimetype": "text/x-python",
   "name": "python",
   "nbconvert_exporter": "python",
   "pygments_lexer": "ipython3",
   "version": "3.8.12"
  },
  "vscode": {
   "interpreter": {
    "hash": "9385fc5f400c6bff946faf2822793b583a3f334e7cd83ef25274ef6675d24a9a"
   }
  }
 },
 "nbformat": 4,
 "nbformat_minor": 5
}
