{
 "cells": [
  {
   "cell_type": "code",
   "execution_count": 2,
   "metadata": {},
   "outputs": [],
   "source": [
    "import pandas as pd\n",
    "import numpy as np\n",
    "import os\n"
   ]
  },
  {
   "cell_type": "code",
   "execution_count": 3,
   "metadata": {},
   "outputs": [],
   "source": [
    "data_vulnerabilities = pd.read_json(\n",
    "    \"../smartbugs/dataset/vulnerabilities.json\")\n"
   ]
  },
  {
   "cell_type": "code",
   "execution_count": 4,
   "metadata": {},
   "outputs": [
    {
     "data": {
      "text/plain": [
       "[{'lines': [31], 'category': 'access_control'},\n",
       " {'lines': [38], 'category': 'access_control'}]"
      ]
     },
     "execution_count": 4,
     "metadata": {},
     "output_type": "execute_result"
    }
   ],
   "source": [
    "data_vulnerabilities.vulnerabilities[0]\n"
   ]
  },
  {
   "cell_type": "code",
   "execution_count": 6,
   "metadata": {},
   "outputs": [],
   "source": [
    "all_categories = []\n",
    "for idx, row in data_vulnerabilities.iterrows():\n",
    "    for i in row['vulnerabilities']:\n",
    "        # print(i)\n",
    "        all_categories.append(i['category'])\n",
    "unique_categories = set(all_categories)"
   ]
  },
  {
   "cell_type": "code",
   "execution_count": 7,
   "metadata": {},
   "outputs": [
    {
     "data": {
      "text/plain": [
       "{'access_control',\n",
       " 'arithmetic',\n",
       " 'bad_randomness',\n",
       " 'denial_of_service',\n",
       " 'front_running',\n",
       " 'other',\n",
       " 'reentrancy',\n",
       " 'short_addresses',\n",
       " 'time_manipulation',\n",
       " 'unchecked_low_level_calls'}"
      ]
     },
     "execution_count": 7,
     "metadata": {},
     "output_type": "execute_result"
    }
   ],
   "source": [
    "unique_categories"
   ]
  },
  {
   "cell_type": "code",
   "execution_count": 10,
   "metadata": {},
   "outputs": [],
   "source": [
    "from sklearn.preprocessing import LabelEncoder\n",
    "label_encoder = LabelEncoder()\n",
    "label_encoded_category = label_encoder.fit_transform(list(unique_categories))"
   ]
  },
  {
   "cell_type": "code",
   "execution_count": 62,
   "metadata": {},
   "outputs": [],
   "source": [
    "def parse_clean_Data(data, filename):\n",
    "    indexes_to_drop = []\n",
    "    for i, d in enumerate(data):\n",
    "        # Convert bytes to string\n",
    "        data[i] = data[i].decode(\"utf-8\")\n",
    "        d = d.decode(\"utf-8\")\n",
    "        # print(type(d))\n",
    "        if d.startswith(\"/*\"):\n",
    "            indexes_to_drop.append(i)\n",
    "            data[i] = \"\"\n",
    "            # pass\n",
    "        elif d.startswith(\"*\") or d.__contains__(\"@\"):\n",
    "            indexes_to_drop.append(i)\n",
    "            data[i] = \"\"\n",
    "            # pass\n",
    "        elif d.startswith(\" */\"):\n",
    "            indexes_to_drop.append(i)\n",
    "            data[i] = \"\"\n",
    "            pass\n",
    "        elif d.startswith(\"//\"):\n",
    "            indexes_to_drop.append(i)\n",
    "            data[i] = \"\"\n",
    "            pass\n",
    "        elif d.__contains__(\"//\"):\n",
    "            data[i] = data[i].split(\"//\")[0]\n",
    "    # print(indexes_to_drop)\n",
    "    # result = {f\"{filename}\":data}\n",
    "    return data\n",
    "    # data = data.dropna()\n",
    "    # data = data.reset_index(drop=True)\n",
    "    # return data\n"
   ]
  },
  {
   "cell_type": "code",
   "execution_count": null,
   "metadata": {},
   "outputs": [],
   "source": [
    "list_of_dataset=os.listdir(\"../smartbugs/dataset/\")\n",
    "#Loop to check location is directory or not\n",
    "final_output = {}\n",
    "for entry in list_of_dataset:\n",
    "    # Create full path\n",
    "    fullpath = os.path.join(\"../smartbugs/dataset/\", entry)\n",
    "    # If entry is a directory then get the list of files in this directory \n",
    "    if os.path.isdir(fullpath):\n",
    "        print(entry)\n",
    "        filenames_list = os.listdir(fullpath)\n",
    "        for filename in filenames_list:\n",
    "            # print(filename)\n",
    "            # Read the file content and print it\n",
    "            with open(os.path.join(fullpath, filename), 'rb') as f:\n",
    "                file_Data = f.read().splitlines()\n",
    "                # final_output.append(parse_clean_Data(file_Data, filename))\n",
    "                final_output[filename] = parse_clean_Data(file_Data, filename)\n",
    "                # print()\n",
    "print(final_output)\n",
    "    "
   ]
  },
  {
   "cell_type": "code",
   "execution_count": 69,
   "metadata": {},
   "outputs": [],
   "source": [
    "list_of_all_codes = ['\\n'.join(v) for v in final_output.values()]\n"
   ]
  },
  {
   "cell_type": "code",
   "execution_count": 70,
   "metadata": {},
   "outputs": [
    {
     "data": {
      "text/plain": [
       "'\\n\\n\\n\\n\\n\\n pragma solidity ^0.4.25;\\n\\n contract Wallet {\\n     uint[] private bonusCodes;\\n     address private owner;\\n\\n     constructor() public {\\n         bonusCodes = new uint[](0);\\n         owner = msg.sender;\\n     }\\n\\n     function () public payable {\\n     }\\n\\n     function PushBonusCode(uint c) public {\\n         bonusCodes.push(c);\\n     }\\n\\n     function PopBonusCode() public {\\n         \\n         require(0 <= bonusCodes.length); \\n         bonusCodes.length--; \\n     }\\n\\n     function UpdateBonusCodeAt(uint idx, uint c) public {\\n         require(idx < bonusCodes.length);\\n         bonusCodes[idx] = c; \\n     }\\n\\n     function Destroy() public {\\n         require(msg.sender == owner);\\n         selfdestruct(msg.sender);\\n     }\\n }'"
      ]
     },
     "execution_count": 70,
     "metadata": {},
     "output_type": "execute_result"
    }
   ],
   "source": [
    "list_of_all_codes[0]\n"
   ]
  },
  {
   "cell_type": "code",
   "execution_count": 75,
   "metadata": {},
   "outputs": [],
   "source": [
    "from sklearn.feature_extraction.text import TfidfVectorizer\n",
    "tfidf = TfidfVectorizer()\n",
    "x = tfidf.fit_transform(list_of_all_codes).todense()\n"
   ]
  },
  {
   "cell_type": "code",
   "execution_count": null,
   "metadata": {},
   "outputs": [],
   "source": []
  }
 ],
 "metadata": {
  "kernelspec": {
   "display_name": "Python 3 (ipykernel)",
   "language": "python",
   "name": "python3"
  },
  "language_info": {
   "codemirror_mode": {
    "name": "ipython",
    "version": 3
   },
   "file_extension": ".py",
   "mimetype": "text/x-python",
   "name": "python",
   "nbconvert_exporter": "python",
   "pygments_lexer": "ipython3",
   "version": "3.10.8"
  },
  "vscode": {
   "interpreter": {
    "hash": "24d6a19533e1eca818f6f6cccd978e63c348a062fc1c2f564c5a3a733c42bdc2"
   }
  }
 },
 "nbformat": 4,
 "nbformat_minor": 2
}
