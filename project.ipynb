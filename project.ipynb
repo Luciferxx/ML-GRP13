{
 "cells": [
  {
   "cell_type": "code",
   "execution_count": 111,
   "metadata": {},
   "outputs": [],
   "source": [
    "import pandas as pd\n",
    "import numpy as np\n",
    "import os\n"
   ]
  },
  {
   "cell_type": "code",
   "execution_count": 112,
   "metadata": {},
   "outputs": [],
   "source": [
    "data_vulnerabilities = pd.read_json(\n",
    "    \"../smartbugs/dataset/vulnerabilities.json\")\n"
   ]
  },
  {
   "cell_type": "code",
   "execution_count": 113,
   "metadata": {},
   "outputs": [
    {
     "data": {
      "text/html": [
       "<div>\n",
       "<style scoped>\n",
       "    .dataframe tbody tr th:only-of-type {\n",
       "        vertical-align: middle;\n",
       "    }\n",
       "\n",
       "    .dataframe tbody tr th {\n",
       "        vertical-align: top;\n",
       "    }\n",
       "\n",
       "    .dataframe thead th {\n",
       "        text-align: right;\n",
       "    }\n",
       "</style>\n",
       "<table border=\"1\" class=\"dataframe\">\n",
       "  <thead>\n",
       "    <tr style=\"text-align: right;\">\n",
       "      <th></th>\n",
       "      <th>name</th>\n",
       "      <th>path</th>\n",
       "      <th>source</th>\n",
       "      <th>vulnerabilities</th>\n",
       "    </tr>\n",
       "  </thead>\n",
       "  <tbody>\n",
       "    <tr>\n",
       "      <th>0</th>\n",
       "      <td>FibonacciBalance.sol</td>\n",
       "      <td>dataset/access_control/FibonacciBalance.sol</td>\n",
       "      <td>https://github.com/sigp/solidity-security-blog</td>\n",
       "      <td>[{'lines': [31], 'category': 'access_control'}...</td>\n",
       "    </tr>\n",
       "    <tr>\n",
       "      <th>1</th>\n",
       "      <td>arbitrary_location_write_simple.sol</td>\n",
       "      <td>dataset/access_control/arbitrary_location_writ...</td>\n",
       "      <td>https://smartcontractsecurity.github.io/SWC-re...</td>\n",
       "      <td>[{'lines': [27], 'category': 'access_control'}]</td>\n",
       "    </tr>\n",
       "    <tr>\n",
       "      <th>2</th>\n",
       "      <td>incorrect_constructor_name1.sol</td>\n",
       "      <td>dataset/access_control/incorrect_constructor_n...</td>\n",
       "      <td>https://github.com/trailofbits/not-so-smart-co...</td>\n",
       "      <td>[{'lines': [20], 'category': 'access_control'}]</td>\n",
       "    </tr>\n",
       "    <tr>\n",
       "      <th>3</th>\n",
       "      <td>incorrect_constructor_name2.sol</td>\n",
       "      <td>dataset/access_control/incorrect_constructor_n...</td>\n",
       "      <td>https://smartcontractsecurity.github.io/SWC-re...</td>\n",
       "      <td>[{'lines': [18], 'category': 'access_control'}]</td>\n",
       "    </tr>\n",
       "    <tr>\n",
       "      <th>4</th>\n",
       "      <td>incorrect_constructor_name3.sol</td>\n",
       "      <td>dataset/access_control/incorrect_constructor_n...</td>\n",
       "      <td>https://smartcontractsecurity.github.io/SWC-re...</td>\n",
       "      <td>[{'lines': [17], 'category': 'access_control'}]</td>\n",
       "    </tr>\n",
       "  </tbody>\n",
       "</table>\n",
       "</div>"
      ],
      "text/plain": [
       "                                  name  \\\n",
       "0                 FibonacciBalance.sol   \n",
       "1  arbitrary_location_write_simple.sol   \n",
       "2      incorrect_constructor_name1.sol   \n",
       "3      incorrect_constructor_name2.sol   \n",
       "4      incorrect_constructor_name3.sol   \n",
       "\n",
       "                                                path  \\\n",
       "0        dataset/access_control/FibonacciBalance.sol   \n",
       "1  dataset/access_control/arbitrary_location_writ...   \n",
       "2  dataset/access_control/incorrect_constructor_n...   \n",
       "3  dataset/access_control/incorrect_constructor_n...   \n",
       "4  dataset/access_control/incorrect_constructor_n...   \n",
       "\n",
       "                                              source  \\\n",
       "0     https://github.com/sigp/solidity-security-blog   \n",
       "1  https://smartcontractsecurity.github.io/SWC-re...   \n",
       "2  https://github.com/trailofbits/not-so-smart-co...   \n",
       "3  https://smartcontractsecurity.github.io/SWC-re...   \n",
       "4  https://smartcontractsecurity.github.io/SWC-re...   \n",
       "\n",
       "                                     vulnerabilities  \n",
       "0  [{'lines': [31], 'category': 'access_control'}...  \n",
       "1    [{'lines': [27], 'category': 'access_control'}]  \n",
       "2    [{'lines': [20], 'category': 'access_control'}]  \n",
       "3    [{'lines': [18], 'category': 'access_control'}]  \n",
       "4    [{'lines': [17], 'category': 'access_control'}]  "
      ]
     },
     "execution_count": 113,
     "metadata": {},
     "output_type": "execute_result"
    }
   ],
   "source": [
    "data_vulnerabilities.head()"
   ]
  },
  {
   "cell_type": "code",
   "execution_count": 114,
   "metadata": {},
   "outputs": [
    {
     "data": {
      "text/plain": [
       "[{'lines': [31], 'category': 'access_control'},\n",
       " {'lines': [38], 'category': 'access_control'}]"
      ]
     },
     "execution_count": 114,
     "metadata": {},
     "output_type": "execute_result"
    }
   ],
   "source": [
    "data_vulnerabilities.vulnerabilities[0]\n"
   ]
  },
  {
   "cell_type": "code",
   "execution_count": 115,
   "metadata": {},
   "outputs": [],
   "source": [
    "all_categories = []\n",
    "for idx, row in data_vulnerabilities.iterrows():\n",
    "    for i in row['vulnerabilities']:\n",
    "        # print(i)\n",
    "        all_categories.append(i['category'])\n",
    "unique_categories = set(all_categories)"
   ]
  },
  {
   "cell_type": "code",
   "execution_count": 116,
   "metadata": {},
   "outputs": [
    {
     "data": {
      "text/plain": [
       "{'access_control',\n",
       " 'arithmetic',\n",
       " 'bad_randomness',\n",
       " 'denial_of_service',\n",
       " 'front_running',\n",
       " 'other',\n",
       " 'reentrancy',\n",
       " 'short_addresses',\n",
       " 'time_manipulation',\n",
       " 'unchecked_low_level_calls'}"
      ]
     },
     "execution_count": 116,
     "metadata": {},
     "output_type": "execute_result"
    }
   ],
   "source": [
    "unique_categories"
   ]
  },
  {
   "cell_type": "code",
   "execution_count": 117,
   "metadata": {},
   "outputs": [],
   "source": [
    "from sklearn.preprocessing import LabelEncoder\n",
    "label_encoder = LabelEncoder()\n",
    "label_encoded_category = label_encoder.fit_transform(list(unique_categories))"
   ]
  },
  {
   "cell_type": "code",
   "execution_count": 118,
   "metadata": {},
   "outputs": [],
   "source": [
    "def parse_clean_Data(data, filename):\n",
    "    indexes_to_drop = []\n",
    "    for i, d in enumerate(data):\n",
    "        # Convert bytes to string\n",
    "        data[i] = data[i].decode(\"utf-8\")\n",
    "        d = d.decode(\"utf-8\")\n",
    "        # print(type(d))\n",
    "        if d.startswith(\"/*\"):\n",
    "            indexes_to_drop.append(i)\n",
    "            data[i] = \"\"\n",
    "            # pass\n",
    "        elif d.startswith(\"*\") or d.__contains__(\"@\"):\n",
    "            indexes_to_drop.append(i)\n",
    "            data[i] = \"\"\n",
    "            # pass\n",
    "        elif d.startswith(\" */\"):\n",
    "            indexes_to_drop.append(i)\n",
    "            data[i] = \"\"\n",
    "            pass\n",
    "        elif d.startswith(\"//\"):\n",
    "            indexes_to_drop.append(i)\n",
    "            data[i] = \"\"\n",
    "            pass\n",
    "        elif d.__contains__(\"//\"):\n",
    "            data[i] = data[i].split(\"//\")[0]\n",
    "    # print(indexes_to_drop)\n",
    "    # result = {f\"{filename}\":data}\n",
    "    return data\n",
    "    # data = data.dropna()\n",
    "    # data = data.reset_index(drop=True)\n",
    "    # return data\n"
   ]
  },
  {
   "cell_type": "code",
   "execution_count": 119,
   "metadata": {},
   "outputs": [
    {
     "name": "stdout",
     "output_type": "stream",
     "text": [
      "access_control\n",
      "arithmetic\n",
      "bad_randomness\n",
      "denial_of_service\n",
      "front_running\n",
      "other\n",
      "reentrancy\n",
      "short_addresses\n",
      "time_manipulation\n",
      "unchecked_low_level_calls\n"
     ]
    }
   ],
   "source": [
    "list_of_dataset=os.listdir(\"../smartbugs/dataset/\")\n",
    "#Loop to check location is directory or not\n",
    "final_output = {}\n",
    "for entry in list_of_dataset:\n",
    "    # Create full path\n",
    "    fullpath = os.path.join(\"../smartbugs/dataset/\", entry)\n",
    "    # If entry is a directory then get the list of files in this directory \n",
    "    if os.path.isdir(fullpath):\n",
    "        print(entry)\n",
    "        filenames_list = os.listdir(fullpath)\n",
    "        for filename in filenames_list:\n",
    "            if(filename!=\"README.md\"):\n",
    "            # print(filename)\n",
    "            # Read the file content and print it\n",
    "                with open(os.path.join(fullpath, filename), 'rb') as f:\n",
    "                    file_Data = f.read().splitlines()\n",
    "                    # final_output.append(parse_clean_Data(file_Data, filename))\n",
    "                    final_output[filename] = parse_clean_Data(file_Data, filename)\n",
    "                # print()\n",
    "# print(final_output)\n",
    "    "
   ]
  },
  {
   "cell_type": "code",
   "execution_count": 120,
   "metadata": {},
   "outputs": [],
   "source": [
    "all_filenames = []\n",
    "all_codes = []\n",
    "all_categories = []\n",
    "for filename,v in final_output.items():\n",
    "    temp_V= list(enumerate(v))\n",
    "    #apply lambda function on list of tuples\n",
    "    temp_V = list(map(lambda x: (x[0]+1, x[1]), temp_V))\n",
    "    #get the index for the value in the dataframe\n",
    "    # print(filename)\n",
    "    index = data_vulnerabilities[data_vulnerabilities['name'] == filename].index[0]\n",
    "    for (j,k) in temp_V:    \n",
    "        for vuln in data_vulnerabilities.vulnerabilities[index]:\n",
    "            # print(i)\n",
    "            if j== vuln[\"lines\"][0]:\n",
    "                all_categories.append(vuln['category'])\n",
    "                all_codes.append(k)\n",
    "                all_filenames.append(filename)\n",
    "            else:\n",
    "                all_categories.append(\"No Vulnerability\")\n",
    "                # all_codes.append(temp_V)\n",
    "                # all_filenames.append(filename)\n",
    "                all_codes.append(k)\n",
    "                all_filenames.append(filename)\n",
    "    # print(index)\n"
   ]
  },
  {
   "cell_type": "code",
   "execution_count": 121,
   "metadata": {},
   "outputs": [],
   "source": [
    "final_df = pd.DataFrame(list(zip(all_filenames, all_codes, all_categories)),columns=['filename', 'code', 'category'])"
   ]
  },
  {
   "cell_type": "code",
   "execution_count": 125,
   "metadata": {},
   "outputs": [
    {
     "data": {
      "text/html": [
       "<div>\n",
       "<style scoped>\n",
       "    .dataframe tbody tr th:only-of-type {\n",
       "        vertical-align: middle;\n",
       "    }\n",
       "\n",
       "    .dataframe tbody tr th {\n",
       "        vertical-align: top;\n",
       "    }\n",
       "\n",
       "    .dataframe thead th {\n",
       "        text-align: right;\n",
       "    }\n",
       "</style>\n",
       "<table border=\"1\" class=\"dataframe\">\n",
       "  <thead>\n",
       "    <tr style=\"text-align: right;\">\n",
       "      <th></th>\n",
       "      <th>filename</th>\n",
       "      <th>code</th>\n",
       "      <th>category</th>\n",
       "    </tr>\n",
       "  </thead>\n",
       "  <tbody>\n",
       "    <tr>\n",
       "      <th>0</th>\n",
       "      <td>arbitrary_location_write_simple.sol</td>\n",
       "      <td></td>\n",
       "      <td>No Vulnerability</td>\n",
       "    </tr>\n",
       "    <tr>\n",
       "      <th>6</th>\n",
       "      <td>arbitrary_location_write_simple.sol</td>\n",
       "      <td>pragma solidity ^0.4.25;</td>\n",
       "      <td>No Vulnerability</td>\n",
       "    </tr>\n",
       "    <tr>\n",
       "      <th>8</th>\n",
       "      <td>arbitrary_location_write_simple.sol</td>\n",
       "      <td>contract Wallet {</td>\n",
       "      <td>No Vulnerability</td>\n",
       "    </tr>\n",
       "    <tr>\n",
       "      <th>9</th>\n",
       "      <td>arbitrary_location_write_simple.sol</td>\n",
       "      <td>uint[] private bonusCodes;</td>\n",
       "      <td>No Vulnerability</td>\n",
       "    </tr>\n",
       "    <tr>\n",
       "      <th>10</th>\n",
       "      <td>arbitrary_location_write_simple.sol</td>\n",
       "      <td>address private owner;</td>\n",
       "      <td>No Vulnerability</td>\n",
       "    </tr>\n",
       "    <tr>\n",
       "      <th>...</th>\n",
       "      <td>...</td>\n",
       "      <td>...</td>\n",
       "      <td>...</td>\n",
       "    </tr>\n",
       "    <tr>\n",
       "      <th>35972</th>\n",
       "      <td>mishandled.sol</td>\n",
       "      <td>function withdrawBalance() {</td>\n",
       "      <td>No Vulnerability</td>\n",
       "    </tr>\n",
       "    <tr>\n",
       "      <th>35987</th>\n",
       "      <td>unchecked_return_value.sol</td>\n",
       "      <td>contract ReturnValue {</td>\n",
       "      <td>No Vulnerability</td>\n",
       "    </tr>\n",
       "    <tr>\n",
       "      <th>35989</th>\n",
       "      <td>unchecked_return_value.sol</td>\n",
       "      <td>function callchecked(address callee) public {</td>\n",
       "      <td>No Vulnerability</td>\n",
       "    </tr>\n",
       "    <tr>\n",
       "      <th>35990</th>\n",
       "      <td>unchecked_return_value.sol</td>\n",
       "      <td>require(callee.call());</td>\n",
       "      <td>No Vulnerability</td>\n",
       "    </tr>\n",
       "    <tr>\n",
       "      <th>35993</th>\n",
       "      <td>unchecked_return_value.sol</td>\n",
       "      <td>function callnotchecked(address callee) publ...</td>\n",
       "      <td>No Vulnerability</td>\n",
       "    </tr>\n",
       "  </tbody>\n",
       "</table>\n",
       "<p>4436 rows × 3 columns</p>\n",
       "</div>"
      ],
      "text/plain": [
       "                                  filename  \\\n",
       "0      arbitrary_location_write_simple.sol   \n",
       "6      arbitrary_location_write_simple.sol   \n",
       "8      arbitrary_location_write_simple.sol   \n",
       "9      arbitrary_location_write_simple.sol   \n",
       "10     arbitrary_location_write_simple.sol   \n",
       "...                                    ...   \n",
       "35972                       mishandled.sol   \n",
       "35987           unchecked_return_value.sol   \n",
       "35989           unchecked_return_value.sol   \n",
       "35990           unchecked_return_value.sol   \n",
       "35993           unchecked_return_value.sol   \n",
       "\n",
       "                                                    code          category  \n",
       "0                                                         No Vulnerability  \n",
       "6                               pragma solidity ^0.4.25;  No Vulnerability  \n",
       "8                                      contract Wallet {  No Vulnerability  \n",
       "9                             uint[] private bonusCodes;  No Vulnerability  \n",
       "10                                address private owner;  No Vulnerability  \n",
       "...                                                  ...               ...  \n",
       "35972                     function withdrawBalance() {    No Vulnerability  \n",
       "35987                             contract ReturnValue {  No Vulnerability  \n",
       "35989      function callchecked(address callee) public {  No Vulnerability  \n",
       "35990                            require(callee.call());  No Vulnerability  \n",
       "35993    function callnotchecked(address callee) publ...  No Vulnerability  \n",
       "\n",
       "[4436 rows x 3 columns]"
      ]
     },
     "execution_count": 125,
     "metadata": {},
     "output_type": "execute_result"
    }
   ],
   "source": [
    "df1=final_df[final_df[\"category\"]==\"No Vulnerability\"]\n",
    "df1 = df1.drop_duplicates(subset=['code'], keep='first')\n",
    "df1"
   ]
  },
  {
   "cell_type": "code",
   "execution_count": 124,
   "metadata": {},
   "outputs": [],
   "source": [
    "#import TfidfVectorizer from sklearn\n",
    "from sklearn.feature_extraction.text import TfidfVectorizer\n",
    "#initialize TfidfVectorizer \n",
    "tfidf_vectorizer=TfidfVectorizer(use_idf=True)\n",
    "#convert the text into a matrix of TF-IDF features\n",
    "tfidf_vectorizer_vectors=tfidf_vectorizer.fit_transform(final_df['code']).todense()"
   ]
  },
  {
   "cell_type": "code",
   "execution_count": 41,
   "metadata": {},
   "outputs": [
    {
     "data": {
      "text/plain": [
       "(35998, 2147)"
      ]
     },
     "execution_count": 41,
     "metadata": {},
     "output_type": "execute_result"
    }
   ],
   "source": [
    "tfidf_vectorizer_vectors.shape"
   ]
  },
  {
   "cell_type": "code",
   "execution_count": 43,
   "metadata": {},
   "outputs": [],
   "source": [
    "from sklearn.preprocessing import LabelEncoder\n",
    "l_e = LabelEncoder()\n",
    "final_df['category'] = l_e.fit_transform(final_df['category'])"
   ]
  },
  {
   "cell_type": "code",
   "execution_count": 44,
   "metadata": {},
   "outputs": [
    {
     "data": {
      "text/html": [
       "<div>\n",
       "<style scoped>\n",
       "    .dataframe tbody tr th:only-of-type {\n",
       "        vertical-align: middle;\n",
       "    }\n",
       "\n",
       "    .dataframe tbody tr th {\n",
       "        vertical-align: top;\n",
       "    }\n",
       "\n",
       "    .dataframe thead th {\n",
       "        text-align: right;\n",
       "    }\n",
       "</style>\n",
       "<table border=\"1\" class=\"dataframe\">\n",
       "  <thead>\n",
       "    <tr style=\"text-align: right;\">\n",
       "      <th></th>\n",
       "      <th>filename</th>\n",
       "      <th>code</th>\n",
       "      <th>category</th>\n",
       "    </tr>\n",
       "  </thead>\n",
       "  <tbody>\n",
       "    <tr>\n",
       "      <th>0</th>\n",
       "      <td>arbitrary_location_write_simple.sol</td>\n",
       "      <td></td>\n",
       "      <td>0</td>\n",
       "    </tr>\n",
       "    <tr>\n",
       "      <th>1</th>\n",
       "      <td>arbitrary_location_write_simple.sol</td>\n",
       "      <td></td>\n",
       "      <td>0</td>\n",
       "    </tr>\n",
       "    <tr>\n",
       "      <th>2</th>\n",
       "      <td>arbitrary_location_write_simple.sol</td>\n",
       "      <td></td>\n",
       "      <td>0</td>\n",
       "    </tr>\n",
       "    <tr>\n",
       "      <th>3</th>\n",
       "      <td>arbitrary_location_write_simple.sol</td>\n",
       "      <td></td>\n",
       "      <td>0</td>\n",
       "    </tr>\n",
       "    <tr>\n",
       "      <th>4</th>\n",
       "      <td>arbitrary_location_write_simple.sol</td>\n",
       "      <td></td>\n",
       "      <td>0</td>\n",
       "    </tr>\n",
       "    <tr>\n",
       "      <th>...</th>\n",
       "      <td>...</td>\n",
       "      <td>...</td>\n",
       "      <td>...</td>\n",
       "    </tr>\n",
       "    <tr>\n",
       "      <th>35993</th>\n",
       "      <td>unchecked_return_value.sol</td>\n",
       "      <td>function callnotchecked(address callee) publ...</td>\n",
       "      <td>0</td>\n",
       "    </tr>\n",
       "    <tr>\n",
       "      <th>35994</th>\n",
       "      <td>unchecked_return_value.sol</td>\n",
       "      <td></td>\n",
       "      <td>0</td>\n",
       "    </tr>\n",
       "    <tr>\n",
       "      <th>35995</th>\n",
       "      <td>unchecked_return_value.sol</td>\n",
       "      <td>callee.call();</td>\n",
       "      <td>10</td>\n",
       "    </tr>\n",
       "    <tr>\n",
       "      <th>35996</th>\n",
       "      <td>unchecked_return_value.sol</td>\n",
       "      <td>}</td>\n",
       "      <td>0</td>\n",
       "    </tr>\n",
       "    <tr>\n",
       "      <th>35997</th>\n",
       "      <td>unchecked_return_value.sol</td>\n",
       "      <td>}</td>\n",
       "      <td>0</td>\n",
       "    </tr>\n",
       "  </tbody>\n",
       "</table>\n",
       "<p>35998 rows × 3 columns</p>\n",
       "</div>"
      ],
      "text/plain": [
       "                                  filename  \\\n",
       "0      arbitrary_location_write_simple.sol   \n",
       "1      arbitrary_location_write_simple.sol   \n",
       "2      arbitrary_location_write_simple.sol   \n",
       "3      arbitrary_location_write_simple.sol   \n",
       "4      arbitrary_location_write_simple.sol   \n",
       "...                                    ...   \n",
       "35993           unchecked_return_value.sol   \n",
       "35994           unchecked_return_value.sol   \n",
       "35995           unchecked_return_value.sol   \n",
       "35996           unchecked_return_value.sol   \n",
       "35997           unchecked_return_value.sol   \n",
       "\n",
       "                                                    code  category  \n",
       "0                                                                0  \n",
       "1                                                                0  \n",
       "2                                                                0  \n",
       "3                                                                0  \n",
       "4                                                                0  \n",
       "...                                                  ...       ...  \n",
       "35993    function callnotchecked(address callee) publ...         0  \n",
       "35994                                                            0  \n",
       "35995                                     callee.call();        10  \n",
       "35996                                                  }         0  \n",
       "35997                                                  }         0  \n",
       "\n",
       "[35998 rows x 3 columns]"
      ]
     },
     "execution_count": 44,
     "metadata": {},
     "output_type": "execute_result"
    }
   ],
   "source": [
    "final_df"
   ]
  },
  {
   "cell_type": "code",
   "execution_count": 49,
   "metadata": {},
   "outputs": [],
   "source": [
    "from sklearn.model_selection import train_test_split\n",
    "X_train, X_test, y_train, y_test = train_test_split(tfidf_vectorizer_vectors, final_df['category'], test_size=0.2, random_state=42)\n"
   ]
  },
  {
   "cell_type": "code",
   "execution_count": 56,
   "metadata": {},
   "outputs": [
    {
     "data": {
      "text/plain": [
       "LogisticRegression(C=0.0001, max_iter=10000000)"
      ]
     },
     "execution_count": 56,
     "metadata": {},
     "output_type": "execute_result"
    }
   ],
   "source": [
    "from sklearn.linear_model import LogisticRegression\n",
    "lr = LogisticRegression(C=0.0001,max_iter=10000000)\n",
    "lr.fit(X_train, y_train)"
   ]
  },
  {
   "cell_type": "code",
   "execution_count": 59,
   "metadata": {},
   "outputs": [
    {
     "name": "stdout",
     "output_type": "stream",
     "text": [
      "              precision    recall  f1-score   support\n",
      "\n",
      "           0       0.99      1.00      1.00      7157\n",
      "           1       0.00      0.00      0.00         2\n",
      "           2       0.00      0.00      0.00         6\n",
      "           3       0.00      0.00      0.00         5\n",
      "           4       0.00      0.00      0.00         1\n",
      "           5       0.00      0.00      0.00         2\n",
      "           6       0.00      0.00      0.00         1\n",
      "           7       0.00      0.00      0.00         5\n",
      "           9       0.00      0.00      0.00         2\n",
      "          10       0.00      0.00      0.00        19\n",
      "\n",
      "    accuracy                           0.99      7200\n",
      "   macro avg       0.10      0.10      0.10      7200\n",
      "weighted avg       0.99      0.99      0.99      7200\n",
      "\n"
     ]
    },
    {
     "name": "stderr",
     "output_type": "stream",
     "text": [
      "c:\\Users\\vatsa\\anaconda3\\lib\\site-packages\\sklearn\\metrics\\_classification.py:1248: UndefinedMetricWarning: Precision and F-score are ill-defined and being set to 0.0 in labels with no predicted samples. Use `zero_division` parameter to control this behavior.\n",
      "  _warn_prf(average, modifier, msg_start, len(result))\n",
      "c:\\Users\\vatsa\\anaconda3\\lib\\site-packages\\sklearn\\metrics\\_classification.py:1248: UndefinedMetricWarning: Precision and F-score are ill-defined and being set to 0.0 in labels with no predicted samples. Use `zero_division` parameter to control this behavior.\n",
      "  _warn_prf(average, modifier, msg_start, len(result))\n",
      "c:\\Users\\vatsa\\anaconda3\\lib\\site-packages\\sklearn\\metrics\\_classification.py:1248: UndefinedMetricWarning: Precision and F-score are ill-defined and being set to 0.0 in labels with no predicted samples. Use `zero_division` parameter to control this behavior.\n",
      "  _warn_prf(average, modifier, msg_start, len(result))\n"
     ]
    }
   ],
   "source": [
    "from sklearn.metrics import accuracy_score,classification_report\n",
    "accuracy_score(y_test, lr.predict(X_test))\n",
    "print(classification_report(y_test, lr.predict(X_test)))\n",
    "# lr.predict(tfidf_vectorizer_vectors)"
   ]
  },
  {
   "cell_type": "code",
   "execution_count": null,
   "metadata": {},
   "outputs": [],
   "source": []
  }
 ],
 "metadata": {
  "kernelspec": {
   "display_name": "Python 3.9.7 ('base')",
   "language": "python",
   "name": "python3"
  },
  "language_info": {
   "codemirror_mode": {
    "name": "ipython",
    "version": 3
   },
   "file_extension": ".py",
   "mimetype": "text/x-python",
   "name": "python",
   "nbconvert_exporter": "python",
   "pygments_lexer": "ipython3",
   "version": "3.9.7"
  },
  "orig_nbformat": 4,
  "vscode": {
   "interpreter": {
    "hash": "24d6a19533e1eca818f6f6cccd978e63c348a062fc1c2f564c5a3a733c42bdc2"
   }
  }
 },
 "nbformat": 4,
 "nbformat_minor": 2
}
