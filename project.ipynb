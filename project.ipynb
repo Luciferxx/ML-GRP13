{
 "cells": [
  {
   "cell_type": "code",
   "execution_count": 106,
   "metadata": {},
   "outputs": [],
   "source": [
    "import pandas as pd\n",
    "import numpy as np\n",
    "import os\n",
    "\n"
   ]
  },
  {
   "cell_type": "code",
   "execution_count": 107,
   "metadata": {},
   "outputs": [],
   "source": [
    "data_vulnerabilities = pd.read_json(\n",
    "    \"dataset/vulnerabilities.json\")\n"
   ]
  },
  {
   "cell_type": "code",
   "execution_count": 108,
   "metadata": {},
   "outputs": [
    {
     "data": {
      "text/html": [
       "<div>\n",
       "<style scoped>\n",
       "    .dataframe tbody tr th:only-of-type {\n",
       "        vertical-align: middle;\n",
       "    }\n",
       "\n",
       "    .dataframe tbody tr th {\n",
       "        vertical-align: top;\n",
       "    }\n",
       "\n",
       "    .dataframe thead th {\n",
       "        text-align: right;\n",
       "    }\n",
       "</style>\n",
       "<table border=\"1\" class=\"dataframe\">\n",
       "  <thead>\n",
       "    <tr style=\"text-align: right;\">\n",
       "      <th></th>\n",
       "      <th>name</th>\n",
       "      <th>path</th>\n",
       "      <th>source</th>\n",
       "      <th>vulnerabilities</th>\n",
       "    </tr>\n",
       "  </thead>\n",
       "  <tbody>\n",
       "    <tr>\n",
       "      <th>0</th>\n",
       "      <td>FibonacciBalance.sol</td>\n",
       "      <td>dataset/access_control/FibonacciBalance.sol</td>\n",
       "      <td>https://github.com/sigp/solidity-security-blog</td>\n",
       "      <td>[{'lines': [31], 'category': 'access_control'}...</td>\n",
       "    </tr>\n",
       "    <tr>\n",
       "      <th>1</th>\n",
       "      <td>arbitrary_location_write_simple.sol</td>\n",
       "      <td>dataset/access_control/arbitrary_location_writ...</td>\n",
       "      <td>https://smartcontractsecurity.github.io/SWC-re...</td>\n",
       "      <td>[{'lines': [27], 'category': 'access_control'}]</td>\n",
       "    </tr>\n",
       "    <tr>\n",
       "      <th>2</th>\n",
       "      <td>incorrect_constructor_name1.sol</td>\n",
       "      <td>dataset/access_control/incorrect_constructor_n...</td>\n",
       "      <td>https://github.com/trailofbits/not-so-smart-co...</td>\n",
       "      <td>[{'lines': [20], 'category': 'access_control'}]</td>\n",
       "    </tr>\n",
       "    <tr>\n",
       "      <th>3</th>\n",
       "      <td>incorrect_constructor_name2.sol</td>\n",
       "      <td>dataset/access_control/incorrect_constructor_n...</td>\n",
       "      <td>https://smartcontractsecurity.github.io/SWC-re...</td>\n",
       "      <td>[{'lines': [18], 'category': 'access_control'}]</td>\n",
       "    </tr>\n",
       "    <tr>\n",
       "      <th>4</th>\n",
       "      <td>incorrect_constructor_name3.sol</td>\n",
       "      <td>dataset/access_control/incorrect_constructor_n...</td>\n",
       "      <td>https://smartcontractsecurity.github.io/SWC-re...</td>\n",
       "      <td>[{'lines': [17], 'category': 'access_control'}]</td>\n",
       "    </tr>\n",
       "  </tbody>\n",
       "</table>\n",
       "</div>"
      ],
      "text/plain": [
       "                                  name  \\\n",
       "0                 FibonacciBalance.sol   \n",
       "1  arbitrary_location_write_simple.sol   \n",
       "2      incorrect_constructor_name1.sol   \n",
       "3      incorrect_constructor_name2.sol   \n",
       "4      incorrect_constructor_name3.sol   \n",
       "\n",
       "                                                path  \\\n",
       "0        dataset/access_control/FibonacciBalance.sol   \n",
       "1  dataset/access_control/arbitrary_location_writ...   \n",
       "2  dataset/access_control/incorrect_constructor_n...   \n",
       "3  dataset/access_control/incorrect_constructor_n...   \n",
       "4  dataset/access_control/incorrect_constructor_n...   \n",
       "\n",
       "                                              source  \\\n",
       "0     https://github.com/sigp/solidity-security-blog   \n",
       "1  https://smartcontractsecurity.github.io/SWC-re...   \n",
       "2  https://github.com/trailofbits/not-so-smart-co...   \n",
       "3  https://smartcontractsecurity.github.io/SWC-re...   \n",
       "4  https://smartcontractsecurity.github.io/SWC-re...   \n",
       "\n",
       "                                     vulnerabilities  \n",
       "0  [{'lines': [31], 'category': 'access_control'}...  \n",
       "1    [{'lines': [27], 'category': 'access_control'}]  \n",
       "2    [{'lines': [20], 'category': 'access_control'}]  \n",
       "3    [{'lines': [18], 'category': 'access_control'}]  \n",
       "4    [{'lines': [17], 'category': 'access_control'}]  "
      ]
     },
     "execution_count": 108,
     "metadata": {},
     "output_type": "execute_result"
    }
   ],
   "source": [
    "data_vulnerabilities.head()"
   ]
  },
  {
   "cell_type": "code",
   "execution_count": 109,
   "metadata": {},
   "outputs": [
    {
     "data": {
      "text/plain": [
       "[{'lines': [31], 'category': 'access_control'},\n",
       " {'lines': [38], 'category': 'access_control'}]"
      ]
     },
     "execution_count": 109,
     "metadata": {},
     "output_type": "execute_result"
    }
   ],
   "source": [
    "data_vulnerabilities.vulnerabilities[0]\n"
   ]
  },
  {
   "cell_type": "code",
   "execution_count": 110,
   "metadata": {},
   "outputs": [],
   "source": [
    "all_categories = []\n",
    "for idx, row in data_vulnerabilities.iterrows():\n",
    "    for i in row['vulnerabilities']:\n",
    "        # print(i)\n",
    "        all_categories.append(i['category'])\n",
    "unique_categories = set(all_categories)"
   ]
  },
  {
   "cell_type": "code",
   "execution_count": 111,
   "metadata": {},
   "outputs": [
    {
     "data": {
      "text/plain": [
       "{'access_control',\n",
       " 'arithmetic',\n",
       " 'bad_randomness',\n",
       " 'denial_of_service',\n",
       " 'front_running',\n",
       " 'other',\n",
       " 'reentrancy',\n",
       " 'short_addresses',\n",
       " 'time_manipulation',\n",
       " 'unchecked_low_level_calls'}"
      ]
     },
     "execution_count": 111,
     "metadata": {},
     "output_type": "execute_result"
    }
   ],
   "source": [
    "unique_categories"
   ]
  },
  {
   "cell_type": "code",
   "execution_count": 112,
   "metadata": {},
   "outputs": [],
   "source": [
    "from sklearn.preprocessing import LabelEncoder\n",
    "label_encoder = LabelEncoder()\n",
    "label_encoded_category = label_encoder.fit_transform(list(unique_categories))"
   ]
  },
  {
   "cell_type": "code",
   "execution_count": 113,
   "metadata": {},
   "outputs": [],
   "source": [
    "def parse_clean_Data(data, filename):\n",
    "    indexes_to_drop = []\n",
    "    for i, d in enumerate(data):\n",
    "        # Convert bytes to string\n",
    "        data[i] = data[i].decode(\"utf-8\")\n",
    "        d = d.decode(\"utf-8\")\n",
    "        # print(type(d))\n",
    "        if d.startswith(\"/*\"):\n",
    "            indexes_to_drop.append(i)\n",
    "            data[i] = \"\"\n",
    "            # pass\n",
    "        elif d.startswith(\"*\") or d.__contains__(\"@\"):\n",
    "            indexes_to_drop.append(i)\n",
    "            data[i] = \"\"\n",
    "            # pass\n",
    "        elif d.startswith(\" */\"):\n",
    "            indexes_to_drop.append(i)\n",
    "            data[i] = \"\"\n",
    "            pass\n",
    "        elif d.startswith(\"//\"):\n",
    "            indexes_to_drop.append(i)\n",
    "            data[i] = \"\"\n",
    "            pass\n",
    "        elif d.__contains__(\"//\"):\n",
    "            data[i] = data[i].split(\"//\")[0]\n",
    "    # print(indexes_to_drop)\n",
    "    # result = {f\"{filename}\":data}\n",
    "    return data\n",
    "    # data = data.dropna()\n",
    "    # data = data.reset_index(drop=True)\n",
    "    # return data\n"
   ]
  },
  {
   "cell_type": "code",
   "execution_count": 114,
   "metadata": {},
   "outputs": [
    {
     "name": "stdout",
     "output_type": "stream",
     "text": [
      "bad_randomness\n",
      "reentrancy\n",
      "unchecked_low_level_calls\n",
      "other\n",
      "short_addresses\n",
      "denial_of_service\n",
      "front_running\n",
      "access_control\n",
      "arithmetic\n",
      "time_manipulation\n"
     ]
    }
   ],
   "source": [
    "list_of_dataset=os.listdir(\"dataset/\")\n",
    "#Loop to check location is directory or not\n",
    "final_output = {}\n",
    "for entry in list_of_dataset:\n",
    "    # Create full path\n",
    "    fullpath = os.path.join(\"dataset/\", entry)\n",
    "    # If entry is a directory then get the list of files in this directory \n",
    "    if os.path.isdir(fullpath):\n",
    "        print(entry)\n",
    "        filenames_list = os.listdir(fullpath)\n",
    "        for filename in filenames_list:\n",
    "            if(filename!=\"README.md\"):\n",
    "            # print(filename)\n",
    "            # Read the file content and print it\n",
    "                with open(os.path.join(fullpath, filename), 'rb') as f:\n",
    "                    file_Data = f.read().splitlines()\n",
    "                    # final_output.append(parse_clean_Data(file_Data, filename))\n",
    "                    final_output[filename] = parse_clean_Data(file_Data, filename)\n",
    "                # print()\n",
    "# print(final_output)\n",
    "    "
   ]
  },
  {
   "cell_type": "code",
   "execution_count": 115,
   "metadata": {},
   "outputs": [],
   "source": [
    "all_filenames = []\n",
    "all_codes = []\n",
    "all_categories = []\n",
    "for filename,v in final_output.items():\n",
    "    temp_V= list(enumerate(v))\n",
    "    #apply lambda function on list of tuples\n",
    "    temp_V = list(map(lambda x: (x[0]+1, x[1]), temp_V))\n",
    "    #get the index for the value in the dataframe\n",
    "    # print(filename)\n",
    "    index = data_vulnerabilities[data_vulnerabilities['name'] == filename].index[0]\n",
    "    for (j,k) in temp_V:    \n",
    "        for vuln in data_vulnerabilities.vulnerabilities[index]:\n",
    "            # print(i)\n",
    "            if j== vuln[\"lines\"][0]:\n",
    "                all_categories.append(vuln['category'])\n",
    "                all_codes.append(k)\n",
    "                all_filenames.append(filename)\n",
    "            else:\n",
    "                all_categories.append(\"No Vulnerability\")\n",
    "                # all_codes.append(temp_V)\n",
    "                # all_filenames.append(filename)\n",
    "                all_codes.append(k)\n",
    "                all_filenames.append(filename)\n",
    "    # print(index)\n"
   ]
  },
  {
   "cell_type": "code",
   "execution_count": 116,
   "metadata": {},
   "outputs": [],
   "source": [
    "final_df = pd.DataFrame(list(zip(all_filenames, all_codes, all_categories)),columns=['filename', 'code', 'category'])"
   ]
  },
  {
   "cell_type": "code",
   "execution_count": 117,
   "metadata": {},
   "outputs": [
    {
     "data": {
      "text/html": [
       "<div>\n",
       "<style scoped>\n",
       "    .dataframe tbody tr th:only-of-type {\n",
       "        vertical-align: middle;\n",
       "    }\n",
       "\n",
       "    .dataframe tbody tr th {\n",
       "        vertical-align: top;\n",
       "    }\n",
       "\n",
       "    .dataframe thead th {\n",
       "        text-align: right;\n",
       "    }\n",
       "</style>\n",
       "<table border=\"1\" class=\"dataframe\">\n",
       "  <thead>\n",
       "    <tr style=\"text-align: right;\">\n",
       "      <th></th>\n",
       "      <th>filename</th>\n",
       "      <th>code</th>\n",
       "      <th>category</th>\n",
       "    </tr>\n",
       "  </thead>\n",
       "  <tbody>\n",
       "    <tr>\n",
       "      <th>0</th>\n",
       "      <td>random_number_generator.sol</td>\n",
       "      <td></td>\n",
       "      <td>No Vulnerability</td>\n",
       "    </tr>\n",
       "    <tr>\n",
       "      <th>24</th>\n",
       "      <td>random_number_generator.sol</td>\n",
       "      <td>pragma solidity ^0.4.25;</td>\n",
       "      <td>No Vulnerability</td>\n",
       "    </tr>\n",
       "    <tr>\n",
       "      <th>36</th>\n",
       "      <td>random_number_generator.sol</td>\n",
       "      <td>contract RandomNumberGenerator {</td>\n",
       "      <td>No Vulnerability</td>\n",
       "    </tr>\n",
       "    <tr>\n",
       "      <th>40</th>\n",
       "      <td>random_number_generator.sol</td>\n",
       "      <td></td>\n",
       "      <td>No Vulnerability</td>\n",
       "    </tr>\n",
       "    <tr>\n",
       "      <th>45</th>\n",
       "      <td>random_number_generator.sol</td>\n",
       "      <td>uint256 private salt =  block.timestamp;</td>\n",
       "      <td>No Vulnerability</td>\n",
       "    </tr>\n",
       "    <tr>\n",
       "      <th>...</th>\n",
       "      <td>...</td>\n",
       "      <td>...</td>\n",
       "      <td>...</td>\n",
       "    </tr>\n",
       "    <tr>\n",
       "      <th>21318</th>\n",
       "      <td>roulette.sol</td>\n",
       "      <td>require(now != pastBlockTime);</td>\n",
       "      <td>No Vulnerability</td>\n",
       "    </tr>\n",
       "    <tr>\n",
       "      <th>21321</th>\n",
       "      <td>roulette.sol</td>\n",
       "      <td>pastBlockTime = now;</td>\n",
       "      <td>No Vulnerability</td>\n",
       "    </tr>\n",
       "    <tr>\n",
       "      <th>21323</th>\n",
       "      <td>roulette.sol</td>\n",
       "      <td>if(now % 15 == 0) {</td>\n",
       "      <td>No Vulnerability</td>\n",
       "    </tr>\n",
       "    <tr>\n",
       "      <th>21341</th>\n",
       "      <td>timed_crowdsale.sol</td>\n",
       "      <td>contract TimedCrowdsale {</td>\n",
       "      <td>No Vulnerability</td>\n",
       "    </tr>\n",
       "    <tr>\n",
       "      <th>21343</th>\n",
       "      <td>timed_crowdsale.sol</td>\n",
       "      <td>function isSaleFinished() view public return...</td>\n",
       "      <td>No Vulnerability</td>\n",
       "    </tr>\n",
       "  </tbody>\n",
       "</table>\n",
       "<p>2659 rows × 3 columns</p>\n",
       "</div>"
      ],
      "text/plain": [
       "                          filename  \\\n",
       "0      random_number_generator.sol   \n",
       "24     random_number_generator.sol   \n",
       "36     random_number_generator.sol   \n",
       "40     random_number_generator.sol   \n",
       "45     random_number_generator.sol   \n",
       "...                            ...   \n",
       "21318                 roulette.sol   \n",
       "21321                 roulette.sol   \n",
       "21323                 roulette.sol   \n",
       "21341          timed_crowdsale.sol   \n",
       "21343          timed_crowdsale.sol   \n",
       "\n",
       "                                                    code          category  \n",
       "0                                                         No Vulnerability  \n",
       "24                              pragma solidity ^0.4.25;  No Vulnerability  \n",
       "36                      contract RandomNumberGenerator {  No Vulnerability  \n",
       "40                                                        No Vulnerability  \n",
       "45              uint256 private salt =  block.timestamp;  No Vulnerability  \n",
       "...                                                  ...               ...  \n",
       "21318                    require(now != pastBlockTime);   No Vulnerability  \n",
       "21321                               pastBlockTime = now;  No Vulnerability  \n",
       "21323                               if(now % 15 == 0) {   No Vulnerability  \n",
       "21341                          contract TimedCrowdsale {  No Vulnerability  \n",
       "21343    function isSaleFinished() view public return...  No Vulnerability  \n",
       "\n",
       "[2659 rows x 3 columns]"
      ]
     },
     "execution_count": 117,
     "metadata": {},
     "output_type": "execute_result"
    }
   ],
   "source": [
    "df1=final_df[final_df[\"category\"]==\"No Vulnerability\"]\n",
    "df1 = df1.drop_duplicates(subset=['code'], keep='first')\n",
    "df1"
   ]
  },
  {
   "cell_type": "code",
   "execution_count": 118,
   "metadata": {},
   "outputs": [
    {
     "name": "stdout",
     "output_type": "stream",
     "text": [
      "                                            filename  \\\n",
      "0                        random_number_generator.sol   \n",
      "24                       random_number_generator.sol   \n",
      "36                       random_number_generator.sol   \n",
      "40                       random_number_generator.sol   \n",
      "45                       random_number_generator.sol   \n",
      "...                                              ...   \n",
      "21221  integer_overflow_multitx_onefunc_feasible.sol   \n",
      "21266                                ether_lotto.sol   \n",
      "21317                                   roulette.sol   \n",
      "21322                                   roulette.sol   \n",
      "21345                            timed_crowdsale.sol   \n",
      "\n",
      "                                                    code           category  \n",
      "0                                                          No Vulnerability  \n",
      "24                              pragma solidity ^0.4.25;   No Vulnerability  \n",
      "36                      contract RandomNumberGenerator {   No Vulnerability  \n",
      "40                                                         No Vulnerability  \n",
      "45              uint256 private salt =  block.timestamp;   No Vulnerability  \n",
      "...                                                  ...                ...  \n",
      "21221                                    count -= input;         arithmetic  \n",
      "21266          var random = uint(sha3(block.timestamp...  time_manipulation  \n",
      "21317                    require(now != pastBlockTime);   time_manipulation  \n",
      "21322                               pastBlockTime = now;  time_manipulation  \n",
      "21345              return block.timestamp >= 1546300800;  time_manipulation  \n",
      "\n",
      "[2814 rows x 3 columns]\n"
     ]
    }
   ],
   "source": [
    "df2 = final_df[final_df[\"category\"]!=\"No Vulnerability\"]\n",
    "final_df = pd.concat([df1, df2])\n",
    "print(final_df)"
   ]
  },
  {
   "cell_type": "code",
   "execution_count": 119,
   "metadata": {},
   "outputs": [],
   "source": [
    "final_df.reset_index(drop=True, inplace=True)\n"
   ]
  },
  {
   "cell_type": "code",
   "execution_count": 120,
   "metadata": {},
   "outputs": [
    {
     "data": {
      "text/html": [
       "<div>\n",
       "<style scoped>\n",
       "    .dataframe tbody tr th:only-of-type {\n",
       "        vertical-align: middle;\n",
       "    }\n",
       "\n",
       "    .dataframe tbody tr th {\n",
       "        vertical-align: top;\n",
       "    }\n",
       "\n",
       "    .dataframe thead th {\n",
       "        text-align: right;\n",
       "    }\n",
       "</style>\n",
       "<table border=\"1\" class=\"dataframe\">\n",
       "  <thead>\n",
       "    <tr style=\"text-align: right;\">\n",
       "      <th></th>\n",
       "      <th>filename</th>\n",
       "      <th>code</th>\n",
       "      <th>category</th>\n",
       "    </tr>\n",
       "  </thead>\n",
       "  <tbody>\n",
       "    <tr>\n",
       "      <th>0</th>\n",
       "      <td>random_number_generator.sol</td>\n",
       "      <td></td>\n",
       "      <td>No Vulnerability</td>\n",
       "    </tr>\n",
       "    <tr>\n",
       "      <th>1</th>\n",
       "      <td>random_number_generator.sol</td>\n",
       "      <td>pragma solidity ^0.4.25;</td>\n",
       "      <td>No Vulnerability</td>\n",
       "    </tr>\n",
       "    <tr>\n",
       "      <th>2</th>\n",
       "      <td>random_number_generator.sol</td>\n",
       "      <td>contract RandomNumberGenerator {</td>\n",
       "      <td>No Vulnerability</td>\n",
       "    </tr>\n",
       "    <tr>\n",
       "      <th>3</th>\n",
       "      <td>random_number_generator.sol</td>\n",
       "      <td></td>\n",
       "      <td>No Vulnerability</td>\n",
       "    </tr>\n",
       "    <tr>\n",
       "      <th>4</th>\n",
       "      <td>random_number_generator.sol</td>\n",
       "      <td>uint256 private salt =  block.timestamp;</td>\n",
       "      <td>No Vulnerability</td>\n",
       "    </tr>\n",
       "    <tr>\n",
       "      <th>...</th>\n",
       "      <td>...</td>\n",
       "      <td>...</td>\n",
       "      <td>...</td>\n",
       "    </tr>\n",
       "    <tr>\n",
       "      <th>2809</th>\n",
       "      <td>integer_overflow_multitx_onefunc_feasible.sol</td>\n",
       "      <td>count -= input;</td>\n",
       "      <td>arithmetic</td>\n",
       "    </tr>\n",
       "    <tr>\n",
       "      <th>2810</th>\n",
       "      <td>ether_lotto.sol</td>\n",
       "      <td>var random = uint(sha3(block.timestamp...</td>\n",
       "      <td>time_manipulation</td>\n",
       "    </tr>\n",
       "    <tr>\n",
       "      <th>2811</th>\n",
       "      <td>roulette.sol</td>\n",
       "      <td>require(now != pastBlockTime);</td>\n",
       "      <td>time_manipulation</td>\n",
       "    </tr>\n",
       "    <tr>\n",
       "      <th>2812</th>\n",
       "      <td>roulette.sol</td>\n",
       "      <td>pastBlockTime = now;</td>\n",
       "      <td>time_manipulation</td>\n",
       "    </tr>\n",
       "    <tr>\n",
       "      <th>2813</th>\n",
       "      <td>timed_crowdsale.sol</td>\n",
       "      <td>return block.timestamp &gt;= 1546300800;</td>\n",
       "      <td>time_manipulation</td>\n",
       "    </tr>\n",
       "  </tbody>\n",
       "</table>\n",
       "<p>2814 rows × 3 columns</p>\n",
       "</div>"
      ],
      "text/plain": [
       "                                           filename  \\\n",
       "0                       random_number_generator.sol   \n",
       "1                       random_number_generator.sol   \n",
       "2                       random_number_generator.sol   \n",
       "3                       random_number_generator.sol   \n",
       "4                       random_number_generator.sol   \n",
       "...                                             ...   \n",
       "2809  integer_overflow_multitx_onefunc_feasible.sol   \n",
       "2810                                ether_lotto.sol   \n",
       "2811                                   roulette.sol   \n",
       "2812                                   roulette.sol   \n",
       "2813                            timed_crowdsale.sol   \n",
       "\n",
       "                                                   code           category  \n",
       "0                                                         No Vulnerability  \n",
       "1                              pragma solidity ^0.4.25;   No Vulnerability  \n",
       "2                      contract RandomNumberGenerator {   No Vulnerability  \n",
       "3                                                         No Vulnerability  \n",
       "4              uint256 private salt =  block.timestamp;   No Vulnerability  \n",
       "...                                                 ...                ...  \n",
       "2809                                    count -= input;         arithmetic  \n",
       "2810          var random = uint(sha3(block.timestamp...  time_manipulation  \n",
       "2811                    require(now != pastBlockTime);   time_manipulation  \n",
       "2812                               pastBlockTime = now;  time_manipulation  \n",
       "2813              return block.timestamp >= 1546300800;  time_manipulation  \n",
       "\n",
       "[2814 rows x 3 columns]"
      ]
     },
     "execution_count": 120,
     "metadata": {},
     "output_type": "execute_result"
    }
   ],
   "source": [
    "final_df"
   ]
  },
  {
   "cell_type": "code",
   "execution_count": 121,
   "metadata": {},
   "outputs": [],
   "source": [
    "import imblearn\n",
    "from imblearn.under_sampling import RandomUnderSampler\n",
    "under_sampleer = RandomUnderSampler(sampling_strategy='majority')\n",
    "data,y =under_sampleer.fit_resample(final_df,final_df[\"category\"])"
   ]
  },
  {
   "cell_type": "code",
   "execution_count": 122,
   "metadata": {},
   "outputs": [
    {
     "data": {
      "text/plain": [
       "(156, 3)"
      ]
     },
     "execution_count": 122,
     "metadata": {},
     "output_type": "execute_result"
    }
   ],
   "source": [
    "data.shape"
   ]
  },
  {
   "cell_type": "code",
   "execution_count": 123,
   "metadata": {},
   "outputs": [
    {
     "data": {
      "text/plain": [
       "pandas.core.frame.DataFrame"
      ]
     },
     "execution_count": 123,
     "metadata": {},
     "output_type": "execute_result"
    }
   ],
   "source": [
    "type(data)"
   ]
  },
  {
   "cell_type": "code",
   "execution_count": 128,
   "metadata": {},
   "outputs": [
    {
     "data": {
      "text/plain": [
       "unchecked_low_level_calls    53\n",
       "reentrancy                   26\n",
       "bad_randomness               24\n",
       "arithmetic                   21\n",
       "access_control               14\n",
       "denial_of_service             5\n",
       "front_running                 5\n",
       "time_manipulation             4\n",
       "other                         2\n",
       "No Vulnerability              1\n",
       "short_addresses               1\n",
       "Name: category, dtype: int64"
      ]
     },
     "execution_count": 128,
     "metadata": {},
     "output_type": "execute_result"
    }
   ],
   "source": [
    "data[\"category\"].value_counts()"
   ]
  },
  {
   "cell_type": "code",
   "execution_count": 137,
   "metadata": {},
   "outputs": [],
   "source": [
    "#import TfidfVectorizer from sklearn\n",
    "from sklearn.feature_extraction.text import TfidfVectorizer\n",
    "#initialize TfidfVectorizer \n",
    "tfidf_vectorizer=TfidfVectorizer(ngram_range=(1,2))\n",
    "#convert the text into a matrix of TF-IDF features\n",
    "tfidf_vectorizer_vectors=tfidf_vectorizer.fit_transform(data['code']).todense()"
   ]
  },
  {
   "cell_type": "code",
   "execution_count": 138,
   "metadata": {},
   "outputs": [
    {
     "data": {
      "text/plain": [
       "(156, 410)"
      ]
     },
     "execution_count": 138,
     "metadata": {},
     "output_type": "execute_result"
    }
   ],
   "source": [
    "tfidf_vectorizer_vectors.shape"
   ]
  },
  {
   "cell_type": "code",
   "execution_count": 139,
   "metadata": {},
   "outputs": [],
   "source": [
    "from sklearn.preprocessing import LabelEncoder\n",
    "l_e = LabelEncoder()\n",
    "data['category'] = l_e.fit_transform(data['category'])"
   ]
  },
  {
   "cell_type": "code",
   "execution_count": 140,
   "metadata": {},
   "outputs": [
    {
     "data": {
      "text/html": [
       "<div>\n",
       "<style scoped>\n",
       "    .dataframe tbody tr th:only-of-type {\n",
       "        vertical-align: middle;\n",
       "    }\n",
       "\n",
       "    .dataframe tbody tr th {\n",
       "        vertical-align: top;\n",
       "    }\n",
       "\n",
       "    .dataframe thead th {\n",
       "        text-align: right;\n",
       "    }\n",
       "</style>\n",
       "<table border=\"1\" class=\"dataframe\">\n",
       "  <thead>\n",
       "    <tr style=\"text-align: right;\">\n",
       "      <th></th>\n",
       "      <th>filename</th>\n",
       "      <th>code</th>\n",
       "      <th>category</th>\n",
       "    </tr>\n",
       "  </thead>\n",
       "  <tbody>\n",
       "    <tr>\n",
       "      <th>0</th>\n",
       "      <td>0x19cf8481ea15427a98ba3cdd6d9e14690011ab10.sol</td>\n",
       "      <td>require(balances[_from] &gt;= _value);   ...</td>\n",
       "      <td>0</td>\n",
       "    </tr>\n",
       "    <tr>\n",
       "      <th>1</th>\n",
       "      <td>multiowned_vulnerable.sol</td>\n",
       "      <td>function newOwner(address _owner) external r...</td>\n",
       "      <td>1</td>\n",
       "    </tr>\n",
       "    <tr>\n",
       "      <th>2</th>\n",
       "      <td>phishable.sol</td>\n",
       "      <td>require(tx.origin == owner);</td>\n",
       "      <td>1</td>\n",
       "    </tr>\n",
       "    <tr>\n",
       "      <th>3</th>\n",
       "      <td>incorrect_constructor_name1.sol</td>\n",
       "      <td>function IamMissing()</td>\n",
       "      <td>1</td>\n",
       "    </tr>\n",
       "    <tr>\n",
       "      <th>4</th>\n",
       "      <td>wallet_03_wrong_constructor.sol</td>\n",
       "      <td>function initWallet() public {</td>\n",
       "      <td>1</td>\n",
       "    </tr>\n",
       "    <tr>\n",
       "      <th>...</th>\n",
       "      <td>...</td>\n",
       "      <td>...</td>\n",
       "      <td>...</td>\n",
       "    </tr>\n",
       "    <tr>\n",
       "      <th>151</th>\n",
       "      <td>0xa1fceeff3acc57d257b917e30c4df661401d6431.sol</td>\n",
       "      <td>contract_address.call(id, msg.send...</td>\n",
       "      <td>10</td>\n",
       "    </tr>\n",
       "    <tr>\n",
       "      <th>152</th>\n",
       "      <td>0x9d06cbafa865037a01d322d3f4222fa3e04e5488.sol</td>\n",
       "      <td>owner2.send(sum2);</td>\n",
       "      <td>10</td>\n",
       "    </tr>\n",
       "    <tr>\n",
       "      <th>153</th>\n",
       "      <td>0x9d06cbafa865037a01d322d3f4222fa3e04e5488.sol</td>\n",
       "      <td>owner.send(balance);</td>\n",
       "      <td>10</td>\n",
       "    </tr>\n",
       "    <tr>\n",
       "      <th>154</th>\n",
       "      <td>0xe894d54dca59cb53fe9cbc5155093605c7068220.sol</td>\n",
       "      <td>caddress.call(id,from,_tos[i],_val...</td>\n",
       "      <td>10</td>\n",
       "    </tr>\n",
       "    <tr>\n",
       "      <th>155</th>\n",
       "      <td>0x806a6bd219f162442d992bdc4ee6eba1f2c5a707.sol</td>\n",
       "      <td>adr.call.value(msg.value)(data);</td>\n",
       "      <td>10</td>\n",
       "    </tr>\n",
       "  </tbody>\n",
       "</table>\n",
       "<p>156 rows × 3 columns</p>\n",
       "</div>"
      ],
      "text/plain": [
       "                                           filename  \\\n",
       "0    0x19cf8481ea15427a98ba3cdd6d9e14690011ab10.sol   \n",
       "1                         multiowned_vulnerable.sol   \n",
       "2                                     phishable.sol   \n",
       "3                   incorrect_constructor_name1.sol   \n",
       "4                   wallet_03_wrong_constructor.sol   \n",
       "..                                              ...   \n",
       "151  0xa1fceeff3acc57d257b917e30c4df661401d6431.sol   \n",
       "152  0x9d06cbafa865037a01d322d3f4222fa3e04e5488.sol   \n",
       "153  0x9d06cbafa865037a01d322d3f4222fa3e04e5488.sol   \n",
       "154  0xe894d54dca59cb53fe9cbc5155093605c7068220.sol   \n",
       "155  0x806a6bd219f162442d992bdc4ee6eba1f2c5a707.sol   \n",
       "\n",
       "                                                  code  category  \n",
       "0            require(balances[_from] >= _value);   ...         0  \n",
       "1      function newOwner(address _owner) external r...         1  \n",
       "2                         require(tx.origin == owner);         1  \n",
       "3                                function IamMissing()         1  \n",
       "4                       function initWallet() public {         1  \n",
       "..                                                 ...       ...  \n",
       "151              contract_address.call(id, msg.send...        10  \n",
       "152                                 owner2.send(sum2);        10  \n",
       "153                               owner.send(balance);        10  \n",
       "154              caddress.call(id,from,_tos[i],_val...        10  \n",
       "155                   adr.call.value(msg.value)(data);        10  \n",
       "\n",
       "[156 rows x 3 columns]"
      ]
     },
     "execution_count": 140,
     "metadata": {},
     "output_type": "execute_result"
    }
   ],
   "source": [
    "data"
   ]
  },
  {
   "cell_type": "code",
   "execution_count": 141,
   "metadata": {},
   "outputs": [],
   "source": [
    "from sklearn.model_selection import train_test_split\n",
    "X_train, X_test, y_train, y_test = train_test_split(tfidf_vectorizer_vectors, data['category'], test_size=0.2, random_state=42)\n"
   ]
  },
  {
   "cell_type": "code",
   "execution_count": 147,
   "metadata": {},
   "outputs": [
    {
     "name": "stderr",
     "output_type": "stream",
     "text": [
      "/Library/Frameworks/Python.framework/Versions/3.11/lib/python3.11/site-packages/sklearn/utils/validation.py:727: FutureWarning: np.matrix usage is deprecated in 1.0 and will raise a TypeError in 1.2. Please convert to a numpy array with np.asarray. For more information see: https://numpy.org/doc/stable/reference/generated/numpy.matrix.html\n",
      "  warnings.warn(\n"
     ]
    },
    {
     "data": {
      "text/html": [
       "<style>#sk-container-id-6 {color: black;background-color: white;}#sk-container-id-6 pre{padding: 0;}#sk-container-id-6 div.sk-toggleable {background-color: white;}#sk-container-id-6 label.sk-toggleable__label {cursor: pointer;display: block;width: 100%;margin-bottom: 0;padding: 0.3em;box-sizing: border-box;text-align: center;}#sk-container-id-6 label.sk-toggleable__label-arrow:before {content: \"▸\";float: left;margin-right: 0.25em;color: #696969;}#sk-container-id-6 label.sk-toggleable__label-arrow:hover:before {color: black;}#sk-container-id-6 div.sk-estimator:hover label.sk-toggleable__label-arrow:before {color: black;}#sk-container-id-6 div.sk-toggleable__content {max-height: 0;max-width: 0;overflow: hidden;text-align: left;background-color: #f0f8ff;}#sk-container-id-6 div.sk-toggleable__content pre {margin: 0.2em;color: black;border-radius: 0.25em;background-color: #f0f8ff;}#sk-container-id-6 input.sk-toggleable__control:checked~div.sk-toggleable__content {max-height: 200px;max-width: 100%;overflow: auto;}#sk-container-id-6 input.sk-toggleable__control:checked~label.sk-toggleable__label-arrow:before {content: \"▾\";}#sk-container-id-6 div.sk-estimator input.sk-toggleable__control:checked~label.sk-toggleable__label {background-color: #d4ebff;}#sk-container-id-6 div.sk-label input.sk-toggleable__control:checked~label.sk-toggleable__label {background-color: #d4ebff;}#sk-container-id-6 input.sk-hidden--visually {border: 0;clip: rect(1px 1px 1px 1px);clip: rect(1px, 1px, 1px, 1px);height: 1px;margin: -1px;overflow: hidden;padding: 0;position: absolute;width: 1px;}#sk-container-id-6 div.sk-estimator {font-family: monospace;background-color: #f0f8ff;border: 1px dotted black;border-radius: 0.25em;box-sizing: border-box;margin-bottom: 0.5em;}#sk-container-id-6 div.sk-estimator:hover {background-color: #d4ebff;}#sk-container-id-6 div.sk-parallel-item::after {content: \"\";width: 100%;border-bottom: 1px solid gray;flex-grow: 1;}#sk-container-id-6 div.sk-label:hover label.sk-toggleable__label {background-color: #d4ebff;}#sk-container-id-6 div.sk-serial::before {content: \"\";position: absolute;border-left: 1px solid gray;box-sizing: border-box;top: 0;bottom: 0;left: 50%;z-index: 0;}#sk-container-id-6 div.sk-serial {display: flex;flex-direction: column;align-items: center;background-color: white;padding-right: 0.2em;padding-left: 0.2em;position: relative;}#sk-container-id-6 div.sk-item {position: relative;z-index: 1;}#sk-container-id-6 div.sk-parallel {display: flex;align-items: stretch;justify-content: center;background-color: white;position: relative;}#sk-container-id-6 div.sk-item::before, #sk-container-id-6 div.sk-parallel-item::before {content: \"\";position: absolute;border-left: 1px solid gray;box-sizing: border-box;top: 0;bottom: 0;left: 50%;z-index: -1;}#sk-container-id-6 div.sk-parallel-item {display: flex;flex-direction: column;z-index: 1;position: relative;background-color: white;}#sk-container-id-6 div.sk-parallel-item:first-child::after {align-self: flex-end;width: 50%;}#sk-container-id-6 div.sk-parallel-item:last-child::after {align-self: flex-start;width: 50%;}#sk-container-id-6 div.sk-parallel-item:only-child::after {width: 0;}#sk-container-id-6 div.sk-dashed-wrapped {border: 1px dashed gray;margin: 0 0.4em 0.5em 0.4em;box-sizing: border-box;padding-bottom: 0.4em;background-color: white;}#sk-container-id-6 div.sk-label label {font-family: monospace;font-weight: bold;display: inline-block;line-height: 1.2em;}#sk-container-id-6 div.sk-label-container {text-align: center;}#sk-container-id-6 div.sk-container {/* jupyter's `normalize.less` sets `[hidden] { display: none; }` but bootstrap.min.css set `[hidden] { display: none !important; }` so we also need the `!important` here to be able to override the default hidden behavior on the sphinx rendered scikit-learn.org. See: https://github.com/scikit-learn/scikit-learn/issues/21755 */display: inline-block !important;position: relative;}#sk-container-id-6 div.sk-text-repr-fallback {display: none;}</style><div id=\"sk-container-id-6\" class=\"sk-top-container\"><div class=\"sk-text-repr-fallback\"><pre>LogisticRegression(C=100, max_iter=10000000)</pre><b>In a Jupyter environment, please rerun this cell to show the HTML representation or trust the notebook. <br />On GitHub, the HTML representation is unable to render, please try loading this page with nbviewer.org.</b></div><div class=\"sk-container\" hidden><div class=\"sk-item\"><div class=\"sk-estimator sk-toggleable\"><input class=\"sk-toggleable__control sk-hidden--visually\" id=\"sk-estimator-id-6\" type=\"checkbox\" checked><label for=\"sk-estimator-id-6\" class=\"sk-toggleable__label sk-toggleable__label-arrow\">LogisticRegression</label><div class=\"sk-toggleable__content\"><pre>LogisticRegression(C=100, max_iter=10000000)</pre></div></div></div></div></div>"
      ],
      "text/plain": [
       "LogisticRegression(C=100, max_iter=10000000)"
      ]
     },
     "execution_count": 147,
     "metadata": {},
     "output_type": "execute_result"
    }
   ],
   "source": [
    "from sklearn.linear_model import LogisticRegression\n",
    "lr = LogisticRegression(C=100,max_iter=10000000)\n",
    "lr.fit(X_train, y_train)"
   ]
  },
  {
   "cell_type": "code",
   "execution_count": 148,
   "metadata": {},
   "outputs": [
    {
     "name": "stdout",
     "output_type": "stream",
     "text": [
      "              precision    recall  f1-score   support\n",
      "\n",
      "           1       0.50      1.00      0.67         2\n",
      "           2       1.00      1.00      1.00         7\n",
      "           3       1.00      1.00      1.00         3\n",
      "           5       0.00      0.00      0.00         2\n",
      "           7       1.00      0.75      0.86         8\n",
      "           8       0.00      0.00      0.00         1\n",
      "           9       1.00      1.00      1.00         1\n",
      "          10       0.73      1.00      0.84         8\n",
      "\n",
      "    accuracy                           0.84        32\n",
      "   macro avg       0.65      0.72      0.67        32\n",
      "weighted avg       0.81      0.84      0.81        32\n",
      "\n"
     ]
    },
    {
     "name": "stderr",
     "output_type": "stream",
     "text": [
      "/Library/Frameworks/Python.framework/Versions/3.11/lib/python3.11/site-packages/sklearn/utils/validation.py:727: FutureWarning: np.matrix usage is deprecated in 1.0 and will raise a TypeError in 1.2. Please convert to a numpy array with np.asarray. For more information see: https://numpy.org/doc/stable/reference/generated/numpy.matrix.html\n",
      "  warnings.warn(\n",
      "/Library/Frameworks/Python.framework/Versions/3.11/lib/python3.11/site-packages/sklearn/utils/validation.py:727: FutureWarning: np.matrix usage is deprecated in 1.0 and will raise a TypeError in 1.2. Please convert to a numpy array with np.asarray. For more information see: https://numpy.org/doc/stable/reference/generated/numpy.matrix.html\n",
      "  warnings.warn(\n",
      "/Library/Frameworks/Python.framework/Versions/3.11/lib/python3.11/site-packages/sklearn/metrics/_classification.py:1334: UndefinedMetricWarning: Precision and F-score are ill-defined and being set to 0.0 in labels with no predicted samples. Use `zero_division` parameter to control this behavior.\n",
      "  _warn_prf(average, modifier, msg_start, len(result))\n",
      "/Library/Frameworks/Python.framework/Versions/3.11/lib/python3.11/site-packages/sklearn/metrics/_classification.py:1334: UndefinedMetricWarning: Precision and F-score are ill-defined and being set to 0.0 in labels with no predicted samples. Use `zero_division` parameter to control this behavior.\n",
      "  _warn_prf(average, modifier, msg_start, len(result))\n",
      "/Library/Frameworks/Python.framework/Versions/3.11/lib/python3.11/site-packages/sklearn/metrics/_classification.py:1334: UndefinedMetricWarning: Precision and F-score are ill-defined and being set to 0.0 in labels with no predicted samples. Use `zero_division` parameter to control this behavior.\n",
      "  _warn_prf(average, modifier, msg_start, len(result))\n"
     ]
    }
   ],
   "source": [
    "from sklearn.metrics import accuracy_score,classification_report\n",
    "accuracy_score(y_test, lr.predict(X_test))\n",
    "print(classification_report(y_test, lr.predict(X_test)))\n",
    "# lr.predict(tfidf_vectorizer_vectors)"
   ]
  },
  {
   "cell_type": "code",
   "execution_count": 144,
   "metadata": {},
   "outputs": [
    {
     "name": "stdout",
     "output_type": "stream",
     "text": [
      "              precision    recall  f1-score   support\n",
      "\n",
      "           1       0.00      0.00      0.00         2\n",
      "           2       0.00      0.00      0.00         7\n",
      "           3       0.00      0.00      0.00         3\n",
      "           5       0.00      0.00      0.00         2\n",
      "           7       0.00      0.00      0.00         8\n",
      "           8       0.00      0.00      0.00         1\n",
      "           9       0.00      0.00      0.00         1\n",
      "          10       0.25      1.00      0.40         8\n",
      "\n",
      "    accuracy                           0.25        32\n",
      "   macro avg       0.03      0.12      0.05        32\n",
      "weighted avg       0.06      0.25      0.10        32\n",
      "\n"
     ]
    },
    {
     "name": "stderr",
     "output_type": "stream",
     "text": [
      "/Library/Frameworks/Python.framework/Versions/3.11/lib/python3.11/site-packages/sklearn/metrics/_classification.py:1334: UndefinedMetricWarning: Precision and F-score are ill-defined and being set to 0.0 in labels with no predicted samples. Use `zero_division` parameter to control this behavior.\n",
      "  _warn_prf(average, modifier, msg_start, len(result))\n",
      "/Library/Frameworks/Python.framework/Versions/3.11/lib/python3.11/site-packages/sklearn/metrics/_classification.py:1334: UndefinedMetricWarning: Precision and F-score are ill-defined and being set to 0.0 in labels with no predicted samples. Use `zero_division` parameter to control this behavior.\n",
      "  _warn_prf(average, modifier, msg_start, len(result))\n",
      "/Library/Frameworks/Python.framework/Versions/3.11/lib/python3.11/site-packages/sklearn/metrics/_classification.py:1334: UndefinedMetricWarning: Precision and F-score are ill-defined and being set to 0.0 in labels with no predicted samples. Use `zero_division` parameter to control this behavior.\n",
      "  _warn_prf(average, modifier, msg_start, len(result))\n"
     ]
    }
   ],
   "source": [
    "from sklearn.dummy import DummyClassifier\n",
    "dummy_clf = DummyClassifier(strategy=\"most_frequent\")\n",
    "dummy_clf.fit(X_train, y_train)\n",
    "# dummy_clf.predict(X_test)\n",
    "print(classification_report(y_test, dummy_clf.predict(X_test)))\n"
   ]
  },
  {
   "cell_type": "code",
   "execution_count": 161,
   "metadata": {},
   "outputs": [
    {
     "name": "stderr",
     "output_type": "stream",
     "text": [
      "/Library/Frameworks/Python.framework/Versions/3.11/lib/python3.11/site-packages/sklearn/utils/validation.py:727: FutureWarning: np.matrix usage is deprecated in 1.0 and will raise a TypeError in 1.2. Please convert to a numpy array with np.asarray. For more information see: https://numpy.org/doc/stable/reference/generated/numpy.matrix.html\n",
      "  warnings.warn(\n"
     ]
    },
    {
     "data": {
      "text/plain": [
       "array([3])"
      ]
     },
     "execution_count": 161,
     "metadata": {},
     "output_type": "execute_result"
    }
   ],
   "source": [
    "lr.predict(tfidf_vectorizer.transform([final_df['code'][4]]).todense())\n"
   ]
  },
  {
   "cell_type": "code",
   "execution_count": 163,
   "metadata": {},
   "outputs": [
    {
     "data": {
      "text/plain": [
       "10    53\n",
       "7     26\n",
       "3     24\n",
       "2     21\n",
       "1     14\n",
       "4      5\n",
       "5      5\n",
       "9      4\n",
       "6      2\n",
       "0      1\n",
       "8      1\n",
       "Name: category, dtype: int64"
      ]
     },
     "execution_count": 163,
     "metadata": {},
     "output_type": "execute_result"
    }
   ],
   "source": [
    "data[\"category\"].value_counts()"
   ]
  },
  {
   "cell_type": "code",
   "execution_count": 162,
   "metadata": {},
   "outputs": [
    {
     "data": {
      "text/plain": [
       "'  uint256 private salt =  block.timestamp;'"
      ]
     },
     "execution_count": 162,
     "metadata": {},
     "output_type": "execute_result"
    }
   ],
   "source": [
    "final_df['code'][4]"
   ]
  },
  {
   "cell_type": "code",
   "execution_count": null,
   "metadata": {},
   "outputs": [],
   "source": []
  }
 ],
 "metadata": {
  "kernelspec": {
   "display_name": "Python 3.11.0 64-bit",
   "language": "python",
   "name": "python3"
  },
  "language_info": {
   "codemirror_mode": {
    "name": "ipython",
    "version": 3
   },
   "file_extension": ".py",
   "mimetype": "text/x-python",
   "name": "python",
   "nbconvert_exporter": "python",
   "pygments_lexer": "ipython3",
   "version": "3.11.0"
  },
  "orig_nbformat": 4,
  "vscode": {
   "interpreter": {
    "hash": "949777d72b0d2535278d3dc13498b2535136f6dfe0678499012e853ee9abcab1"
   }
  }
 },
 "nbformat": 4,
 "nbformat_minor": 2
}
